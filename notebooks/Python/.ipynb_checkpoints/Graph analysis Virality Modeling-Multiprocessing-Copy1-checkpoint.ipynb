{
 "cells": [
  {
   "cell_type": "markdown",
   "metadata": {},
   "source": [
    "# Graph exploration & analysis"
   ]
  },
  {
   "cell_type": "markdown",
   "metadata": {},
   "source": [
    "--------------"
   ]
  },
  {
   "cell_type": "markdown",
   "metadata": {},
   "source": [
    "## Preliminaries"
   ]
  },
  {
   "cell_type": "markdown",
   "metadata": {},
   "source": [
    "- ### Objective :"
   ]
  },
  {
   "cell_type": "markdown",
   "metadata": {},
   "source": [
    "Predict the virality of memes/hashtags in a social network (Twitter)."
   ]
  },
  {
   "cell_type": "markdown",
   "metadata": {},
   "source": [
    "- ### Context and motivations :"
   ]
  },
  {
   "cell_type": "markdown",
   "metadata": {},
   "source": [
    "Virality is, in social networks, an important issue for corporations, political campaigns and influencers as they spend enormous resources and efforts to make their products or messages go viral in order to catch attention and spread their influence/activities to a wider audience.\n",
    "Thus, understanding the complex mechanism of virality may help one control its effects over the network:\n",
    "- How does the network structure affect the diffusion? \n",
    "- How to model the contagion, etc.\n",
    "\n",
    "Proposal brought by the paper : the  broad idea is that network communities allow predict virality by its early spreading pattern. A simple, popular approach in studying hashtags diffusion is to consider hashtags as diseases and apply epidemic models. However, recent studies demonstrate that diseases and behaviors spread differently.\n",
    "We can see huge potentiality for applications in social media marketing : social networks could give better advice to their users as to which posts are likely to give best advertising Return on Investment.\n"
   ]
  },
  {
   "cell_type": "markdown",
   "metadata": {},
   "source": [
    "- ### Imports"
   ]
  },
  {
   "cell_type": "code",
   "execution_count": 1,
   "metadata": {
    "collapsed": true
   },
   "outputs": [],
   "source": [
    "import pandas as pd\n",
    "import seaborn as sns\n",
    "import networkx as nx\n",
    "import matplotlib.pyplot as plt\n",
    "import numpy as np\n",
    "from scipy import stats\n",
    "from itertools import product\n",
    "from itertools import permutations, combinations\n",
    "%matplotlib inline"
   ]
  },
  {
   "cell_type": "markdown",
   "metadata": {},
   "source": [
    "## I. Data exploration"
   ]
  },
  {
   "cell_type": "markdown",
   "metadata": {},
   "source": [
    "**** CITATION ****\n",
    "Please cite our paper as follows, when you are using our dataset:\n",
    "Lilian Weng, Filippo Menczer, and Yong-Yeol Ahn. Virality Prediction and Community Structure in Social Networks. Nature Scientific Report. (3)2522, 2013.\n",
    "\n",
    "\n",
    "\n",
    "**** DATA SOURCE ****\n",
    "Sampled public tweets from Twitter streaming API (https://dev.twitter.com/docs/streaming-apis).\n",
    "Date range: March 24, 2012 to April 25, 2012.\n",
    "\n",
    "\n",
    "\n",
    "**** NETWORKS ****\n",
    "follower_gcc.anony.dat:\n",
    "    Format: anony.user1.ID anony.user2.ID\n",
    "    Anonymized reciprocal follower network.\n",
    "    Each edge is a pair of Twitter user who are following each other. After recovering the reciprocal follower network, the giant connected component is extracted.\n",
    "\n",
    "retweet_gcc.anony.dat:\n",
    "    Format: anony.user1.ID anony.user2.ID weight\n",
    "    Anonymized reciprocal retweet network.\n",
    "    Similarly to follower_gcc.anony.dat, but instead each edge is a pair of users who retweeted each other at least once during our observation time window. Weight is the sum of how many times user1 retweeted user2 or user2 retweeted user1.\n",
    "\n",
    "mention_gcc.anony.dat:\n",
    "    Format: anony.user1.ID anony.user2.ID weight\n",
    "    Anonymized reciprocal retweet network.\n",
    "    Similarly to follower_gcc.anony.dat, but instead each edge is a pair of users who mentioned each other at least once during our observation time window. Weight is the sum of how many times user1 mentioned user2 or user2 mentioned user1.\n",
    "\n",
    "\n",
    "\n",
    "**** HASHTAG SEQUENCES ****\n",
    "timeline_tag.anony.dat\n",
    "    Format: hashtag timestamp1,anony.user1.id timestamp2,anony.user2.id ...\n",
    "    Each line is a hashtag followed by the sequence of its adopters sorted by timestamp. A user is considered as an adopter of a hashtag once he/she starts using the hashtag. We only consider users who appear in the collected networks. The timestamp is the time when we see the hashtag in the user's tweets. The file includes both emergent hashtags and non-emergent ones.\n",
    "\n",
    "timeline_tag_rt.anony.dat\n",
    "    Format: hashtag timestamp1,anony.retweet_user1.id,anony.retweet_from_user1.id timestamp2,anony.retweet_user2.id,anony.tweet_from_user2.id ...\n",
    "    Each line is a hashtag followed by the sequence of its adopters retweeting about this hashtag from other users sorted by timestamp. A \"retweet_user\" retweets a message containing the hashtag from a \"retweet_from_user\". We only consider users who appear in the collected networks. The file includes both emergent hashtags and non-emergent ones.\n",
    "\n",
    "timeline_tag_men.anony.dat\n",
    "    Format: hashtag timestamp1,anony.mention_user1.id,anony.mentioned_user1.id timestamp2,anony.mention_user2.id,anony.mentioned_user2.id ...\n",
    "    Each line is a hashtag followed by the sequence of its adopters mentioning other users in messages containing this hashtags sorted by timestamp. A \"mention_user\" mentions a \"mentioned_user\" in a message with the target hashtag. We only consider users who appear in the collected networks. The file includes both emergent hashtags and non-emergent ones.\n",
    "\n",
    "\n",
    "\n",
    "** Note that users in these networks and timeline sequencies are anonymized in the same way so that the same IDs refer to the same Twitter users.**"
   ]
  },
  {
   "cell_type": "code",
   "execution_count": 2,
   "metadata": {
    "collapsed": true
   },
   "outputs": [],
   "source": [
    "#load from raw dat file into dataframes\n",
    "    #for relationships graphs\n",
    "df1 = pd.read_csv('../../../virality2013/follower_gcc.anony.dat',sep=' ',header=None,names=[\"user_1\",\"user_2\"])\n",
    "#df2 = pd.read_csv('../../../virality2013/mention_gcc.anony.dat',sep=' ',header=None,names=[\"user_1\",\"user_2\",\"weight\"])\n",
    "#df3 = pd.read_csv('../../../virality2013/retweet_gcc.anony.dat',sep=' ',header=None,names=[\"user_1\",\"user_2\",\"weight\"])\n",
    "    \n",
    "    #for hashtags spreading, the data format is too large to compute as matrix (over billion units)\n",
    "#df4 = pd.read_csv('../../../virality2013/timeline_tag.anony.dat',sep=' ',header=None,names=header_tl)\n",
    "#df5 = pd.read_csv('../../../virality2013/timeline_tag_men.anony.dat',sep=' ',header=None,names=header_tl_men)\n",
    "#df6 = pd.read_csv('../../../virality2013/timeline_tag_rt.anony.dat',sep=' ',header=None,names=header_tl_rt)"
   ]
  },
  {
   "cell_type": "markdown",
   "metadata": {},
   "source": [
    "- ### Hashtags analysis"
   ]
  },
  {
   "cell_type": "code",
   "execution_count": 3,
   "metadata": {
    "collapsed": false
   },
   "outputs": [
    {
     "name": "stdout",
     "output_type": "stream",
     "text": [
      "Max len for a row : 363519\n",
      "Nb of hashtags : 1345913\n"
     ]
    }
   ],
   "source": [
    "ht=[]\n",
    "l=[]\n",
    "n=0\n",
    "with open('../../../virality2013/timeline_tag.anony.dat',\"r\") as f:\n",
    "    for line in f:\n",
    "        hashtag = line.split(\" \")[0]\n",
    "        size = len(line.split(\" \"))\n",
    "        ht.append(hashtag)\n",
    "        l.append(size)\n",
    "ht_df=pd.DataFrame()\n",
    "ht_df['hashtag']=ht\n",
    "ht_df['count_adopters']=l\n",
    "\n",
    "print(\"Max len for a row : %s\" %max(l))\n",
    "print(\"Nb of hashtags : %s\" %(len(ht)))"
   ]
  },
  {
   "cell_type": "code",
   "execution_count": 4,
   "metadata": {
    "collapsed": false
   },
   "outputs": [
    {
     "name": "stderr",
     "output_type": "stream",
     "text": [
      "/home/paul/anaconda2/lib/python2.7/site-packages/ipykernel/__main__.py:2: FutureWarning: sort(columns=....) is deprecated, use sort_values(by=.....)\n",
      "  from ipykernel import kernelapp as app\n"
     ]
    }
   ],
   "source": [
    "ht_df = ht_df[ht_df['hashtag'].str.len() > 3] #filter meaningless hashtags\n",
    "ht_df.sort(columns='count_adopters',ascending=False,inplace=True)\n",
    "ht_df.reset_index(inplace=True,drop=True)"
   ]
  },
  {
   "cell_type": "code",
   "execution_count": 5,
   "metadata": {
    "collapsed": false
   },
   "outputs": [
    {
     "data": {
      "text/plain": [
       "<matplotlib.text.Text at 0x7f5a86e91610>"
      ]
     },
     "execution_count": 5,
     "metadata": {},
     "output_type": "execute_result"
    },
    {
     "data": {
      "image/png": "[encoded data removed]",
      "text/plain": [
       "<matplotlib.figure.Figure at 0x7f5a8c3a3dd0>"
      ]
     },
     "metadata": {},
     "output_type": "display_data"
    }
   ],
   "source": [
    "ht_df_ = ht_df[0:30]\n",
    "plt.figure(figsize=(12,12))\n",
    "a=sns.barplot(y=ht_df_['hashtag'],x=ht_df_['count_adopters'],palette=\"Blues_d\")\n",
    "a.set_title('Count for most popular hashtags')\n",
    "a.set_xlabel('Count')"
   ]
  },
  {
   "cell_type": "markdown",
   "metadata": {},
   "source": [
    "- ### Light Network Analysis:"
   ]
  },
  {
   "cell_type": "code",
   "execution_count": 6,
   "metadata": {
    "collapsed": false
   },
   "outputs": [
    {
     "name": "stdout",
     "output_type": "stream",
     "text": [
      "CPU times: user 2min 58s, sys: 3.99 s, total: 3min 2s\n",
      "Wall time: 3min 1s\n"
     ]
    }
   ],
   "source": [
    "%%time\n",
    "g1 = nx.from_pandas_dataframe(df1,source=\"user_1\",target=\"user_2\") #.to_undirected()\n",
    "del df1 #supress to free memory\n",
    "g1 = g1.to_undirected()"
   ]
  },
  {
   "cell_type": "code",
   "execution_count": 7,
   "metadata": {
    "collapsed": false
   },
   "outputs": [
    {
     "data": {
      "image/png": "[encoded data removed]",
      "text/plain": [
       "<matplotlib.figure.Figure at 0x7f5a8698ad10>"
      ]
     },
     "metadata": {},
     "output_type": "display_data"
    },
    {
     "name": "stdout",
     "output_type": "stream",
     "text": [
      "CPU times: user 8.76 s, sys: 28 ms, total: 8.78 s\n",
      "Wall time: 8.68 s\n"
     ]
    }
   ],
   "source": [
    "%%time\n",
    "degree_sequence=sorted(nx.degree(g1).values(),reverse=True) # degree sequence\n",
    "#print \"Degree sequence\", degree_sequence\n",
    "dmax=max(degree_sequence)\n",
    "\n",
    "plt.figure(figsize=(10,10))\n",
    "plt.loglog(degree_sequence,'b-',marker='o')\n",
    "plt.title(\"Degree rank plot\")\n",
    "plt.ylabel(\"degree\")\n",
    "plt.xlabel(\"rank\")\n",
    "\n",
    "plt.show()"
   ]
  },
  {
   "cell_type": "code",
   "execution_count": 8,
   "metadata": {
    "collapsed": false
   },
   "outputs": [
    {
     "data": {
      "image/png": "[encoded data removed]",
      "text/plain": [
       "<matplotlib.figure.Figure at 0x7f5a869ffd90>"
      ]
     },
     "metadata": {},
     "output_type": "display_data"
    },
    {
     "name": "stdout",
     "output_type": "stream",
     "text": [
      "CPU times: user 9.2 s, sys: 16 ms, total: 9.22 s\n",
      "Wall time: 9.13 s\n"
     ]
    }
   ],
   "source": [
    "%%time\n",
    "degree_sequence=nx.degree(g1).values()\n",
    "#print \"Degree sequence\", degree_sequence\n",
    "dmax=max(degree_sequence)\n",
    "\n",
    "plt.figure(figsize=(10,10))\n",
    "plt.loglog(degree_sequence,'b-',marker='o')\n",
    "plt.title(\"Nodes degree plot\")\n",
    "plt.ylabel(\"degree\")\n",
    "plt.xlabel(\"node\")\n",
    "\n",
    "plt.show()"
   ]
  },
  {
   "cell_type": "code",
   "execution_count": 9,
   "metadata": {
    "collapsed": false
   },
   "outputs": [
    {
     "data": {
      "image/png": "[encoded data removed]",
      "text/plain": [
       "<matplotlib.figure.Figure at 0x7f5a82d37190>"
      ]
     },
     "metadata": {},
     "output_type": "display_data"
    },
    {
     "name": "stdout",
     "output_type": "stream",
     "text": [
      "CPU times: user 20.2 s, sys: 96 ms, total: 20.3 s\n",
      "Wall time: 20.2 s\n"
     ]
    }
   ],
   "source": [
    "%%time\n",
    "degree_sequence=nx.degree(g1).values()\n",
    "#print \"Degree sequence\", degree_sequence\n",
    "dmax=max(degree_sequence)\n",
    "\n",
    "plt.figure(figsize=(10,10))\n",
    "plt.scatter(nx.degree(g1).keys(),degree_sequence)\n",
    "plt.title(\"Nodes degree plot\")\n",
    "plt.ylabel(\"degree\")\n",
    "plt.xlabel(\"node\")\n",
    "\n",
    "plt.show()"
   ]
  },
  {
   "cell_type": "markdown",
   "metadata": {},
   "source": [
    "## II. Sampling"
   ]
  },
  {
   "cell_type": "markdown",
   "metadata": {},
   "source": [
    "- ### Random node sampling: "
   ]
  },
  {
   "cell_type": "code",
   "execution_count": 10,
   "metadata": {
    "collapsed": true
   },
   "outputs": [],
   "source": [
    "def sample_nodes(node_list,ratio):\n",
    "    nb_sample = ratio*len(node_list)\n",
    "    nb_sample = int(nb_sample)\n",
    "    sample = np.random.choice(np.array(node_list),size=nb_sample)\n",
    "    return sample\n",
    "\n",
    "def get_nodes(g):\n",
    "    node_list = list(g.nodes())\n",
    "    return node_list\n",
    "\n",
    "def induced_graphed(vertex,g):\n",
    "    return "
   ]
  },
  {
   "cell_type": "code",
   "execution_count": 11,
   "metadata": {
    "collapsed": false
   },
   "outputs": [
    {
     "name": "stdout",
     "output_type": "stream",
     "text": [
      "CPU times: user 36 ms, sys: 0 ns, total: 36 ms\n",
      "Wall time: 39 ms\n"
     ]
    }
   ],
   "source": [
    "%%time\n",
    "nodes1 = get_nodes(g1)\n",
    "sample = sample_nodes(nodes1,0.01)"
   ]
  },
  {
   "cell_type": "markdown",
   "metadata": {},
   "source": [
    "- ### Degree distribution sampling"
   ]
  },
  {
   "cell_type": "raw",
   "metadata": {
    "collapsed": true
   },
   "source": [
    "# Extract counts and values\n",
    "count, value = deg       # automatically unpacks along first axis\n",
    "\n",
    "\n",
    "# Generate vector of probabilities for each node\n",
    "#p = [float(x)/sum(count) for x in count]\n",
    "p = count.astype(float) / count.sum()\n",
    "\n",
    "# Load into a random variable for sampling\n",
    "x = rv_discrete(values=(value,p))\n",
    "print x.rvs(size=1)"
   ]
  },
  {
   "cell_type": "markdown",
   "metadata": {},
   "source": [
    "## III. Hashtags community:"
   ]
  },
  {
   "cell_type": "code",
   "execution_count": 12,
   "metadata": {
    "collapsed": true
   },
   "outputs": [],
   "source": [
    "def extract_from_hash(hashtag,file_path,extended=True):\n",
    "    mat = []    \n",
    "    if extended == True:\n",
    "        with open(file_path,\"r\") as f:\n",
    "            for line in f:\n",
    "                if hashtag in line:\n",
    "                    mat.append(line.split(\" \"))\n",
    "        pading =    max([len(x) for x in mat])      \n",
    "        mat = np.array([np.array(pad(x,pading)) for x in mat])\n",
    "        return pd.DataFrame(mat)\n",
    "    else:\n",
    "        with open(file_path,\"r\") as f:\n",
    "            for line in f:\n",
    "                if hashtag == line.split(\" \")[0]:\n",
    "                    mat.append(line.split(\" \"))\n",
    "                    break\n",
    "        pading =    max([len(x) for x in mat])      \n",
    "        mat = np.array([np.array(pad(x,pading)) for x in mat])\n",
    "        return pd.DataFrame(mat)\n",
    "\n",
    "def pad(list_,length):\n",
    "    return list_[:length] + [np.nan]*(length-len(list_))\n",
    "\n",
    "def find_infected_vertex(df):\n",
    "    keep=[]\n",
    "    for col in df.columns[1:]:\n",
    "        array=split_clean(df[col])\n",
    "        keep.append([x[1] for x in array if isinstance(x,list)])\n",
    "    return list(set([val for sublist in keep for val in sublist]))\n",
    "\n",
    "def fin_infected_timeline(df):\n",
    "    keep=[]\n",
    "    for col in df.columns[1:]:\n",
    "        array=split_clean(df[col])\n",
    "        keep.append([x[0] for x in array if isinstance(x,list)])\n",
    "    return list(set([val for sublist in keep for val in sublist]))\n",
    "\n",
    "\n",
    "def split_clean(list_):\n",
    "    array= [ x.split(\",\") for x in list_]\n",
    "    array= [ np.nan if x[0]=='nan' else [int(x[0]),int(x[1].strip('\\n'))] for x in array ]\n",
    "    return array\n",
    "\n",
    "def query_from_vertices(df,liste_):\n",
    "    df=df[(df['user_1'].isin(liste_)) | (df[\"user_2\"].isin(liste_))]\n",
    "    return df"
   ]
  },
  {
   "cell_type": "raw",
   "metadata": {},
   "source": [
    "%%time\n",
    "df = extract_from_hash('yolo',\"../../../virality2013/timeline_tag.anony.dat\",extended = True)"
   ]
  },
  {
   "cell_type": "raw",
   "metadata": {},
   "source": [
    "%%time\n",
    "df = extract_from_hash('yolo',\"../../../virality2013/timeline_tag.anony.dat\",extended = False)\n",
    "t=find_infected_vertex(df)\n",
    "\n",
    "#del g1\n",
    "df1 = pd.read_csv('../../../virality2013/follower_gcc.anony.dat',sep=' ',header=None,names=[\"user_1\",\"user_2\"])\n",
    "df1=query_from_vertices(df1,t)"
   ]
  },
  {
   "cell_type": "raw",
   "metadata": {},
   "source": [
    "%%time\n",
    "h=nx.from_pandas_dataframe(df1,source=\"user_1\",target=\"user_2\") #.to_undirected()\n",
    "del df1 #supress to free memory\n",
    "h = h.to_undirected()"
   ]
  },
  {
   "cell_type": "raw",
   "metadata": {},
   "source": [
    "%%time\n",
    "pos=nx.spring_layout(h)\n",
    "plt.figure(figsize=(12,12))\n",
    "nx.draw(h,pos,node_color='#A0CBE2',edge_color='#BB0000',width=1,with_labels=False,node_size=2)\n",
    "plt.savefig(\"graph2.png\", dpi=1000)\n",
    "plt.show()"
   ]
  },
  {
   "cell_type": "code",
   "execution_count": 13,
   "metadata": {
    "collapsed": false,
    "scrolled": true
   },
   "outputs": [
    {
     "data": {
      "text/html": [
       "<div>\n",
       "<table border=\"1\" class=\"dataframe\">\n",
       "  <thead>\n",
       "    <tr style=\"text-align: right;\">\n",
       "      <th></th>\n",
       "      <th>hashtag</th>\n",
       "      <th>count_adopters</th>\n",
       "    </tr>\n",
       "  </thead>\n",
       "  <tbody>\n",
       "    <tr>\n",
       "      <th>2401</th>\n",
       "      <td>southside</td>\n",
       "      <td>450</td>\n",
       "    </tr>\n",
       "    <tr>\n",
       "      <th>2402</th>\n",
       "      <td>newyork</td>\n",
       "      <td>450</td>\n",
       "    </tr>\n",
       "    <tr>\n",
       "      <th>2403</th>\n",
       "      <td>dandh</td>\n",
       "      <td>449</td>\n",
       "    </tr>\n",
       "    <tr>\n",
       "      <th>2404</th>\n",
       "      <td>greysonfact</td>\n",
       "      <td>449</td>\n",
       "    </tr>\n",
       "    <tr>\n",
       "      <th>2405</th>\n",
       "      <td>likehonestly</td>\n",
       "      <td>448</td>\n",
       "    </tr>\n",
       "    <tr>\n",
       "      <th>2406</th>\n",
       "      <td>whoa</td>\n",
       "      <td>448</td>\n",
       "    </tr>\n",
       "    <tr>\n",
       "      <th>2407</th>\n",
       "      <td>sticksandstonestour2012</td>\n",
       "      <td>448</td>\n",
       "    </tr>\n",
       "    <tr>\n",
       "      <th>2408</th>\n",
       "      <td>whatthefuck</td>\n",
       "      <td>448</td>\n",
       "    </tr>\n",
       "    <tr>\n",
       "      <th>2409</th>\n",
       "      <td>alfateh</td>\n",
       "      <td>448</td>\n",
       "    </tr>\n",
       "    <tr>\n",
       "      <th>2410</th>\n",
       "      <td>theq</td>\n",
       "      <td>448</td>\n",
       "    </tr>\n",
       "    <tr>\n",
       "      <th>2411</th>\n",
       "      <td>thebestfeeling</td>\n",
       "      <td>448</td>\n",
       "    </tr>\n",
       "    <tr>\n",
       "      <th>2412</th>\n",
       "      <td>areallibra</td>\n",
       "      <td>448</td>\n",
       "    </tr>\n",
       "    <tr>\n",
       "      <th>2413</th>\n",
       "      <td>imsorry</td>\n",
       "      <td>447</td>\n",
       "    </tr>\n",
       "    <tr>\n",
       "      <th>2414</th>\n",
       "      <td>reality</td>\n",
       "      <td>447</td>\n",
       "    </tr>\n",
       "    <tr>\n",
       "      <th>2415</th>\n",
       "      <td>thatmomentwhen</td>\n",
       "      <td>447</td>\n",
       "    </tr>\n",
       "    <tr>\n",
       "      <th>2416</th>\n",
       "      <td>logies</td>\n",
       "      <td>446</td>\n",
       "    </tr>\n",
       "    <tr>\n",
       "      <th>2417</th>\n",
       "      <td>full</td>\n",
       "      <td>446</td>\n",
       "    </tr>\n",
       "    <tr>\n",
       "      <th>2418</th>\n",
       "      <td>mitt2012</td>\n",
       "      <td>446</td>\n",
       "    </tr>\n",
       "    <tr>\n",
       "      <th>2419</th>\n",
       "      <td>dream</td>\n",
       "      <td>446</td>\n",
       "    </tr>\n",
       "    <tr>\n",
       "      <th>2420</th>\n",
       "      <td>baseballswag</td>\n",
       "      <td>446</td>\n",
       "    </tr>\n",
       "    <tr>\n",
       "      <th>2421</th>\n",
       "      <td>mynigga</td>\n",
       "      <td>446</td>\n",
       "    </tr>\n",
       "    <tr>\n",
       "      <th>2422</th>\n",
       "      <td>teamselfmade</td>\n",
       "      <td>446</td>\n",
       "    </tr>\n",
       "    <tr>\n",
       "      <th>2423</th>\n",
       "      <td>stoned</td>\n",
       "      <td>445</td>\n",
       "    </tr>\n",
       "    <tr>\n",
       "      <th>2424</th>\n",
       "      <td>makeachange</td>\n",
       "      <td>445</td>\n",
       "    </tr>\n",
       "    <tr>\n",
       "      <th>2425</th>\n",
       "      <td>sofargone</td>\n",
       "      <td>445</td>\n",
       "    </tr>\n",
       "    <tr>\n",
       "      <th>2426</th>\n",
       "      <td>baseball</td>\n",
       "      <td>445</td>\n",
       "    </tr>\n",
       "    <tr>\n",
       "      <th>2427</th>\n",
       "      <td>lebron</td>\n",
       "      <td>445</td>\n",
       "    </tr>\n",
       "    <tr>\n",
       "      <th>2428</th>\n",
       "      <td>theweeknd</td>\n",
       "      <td>445</td>\n",
       "    </tr>\n",
       "    <tr>\n",
       "      <th>2429</th>\n",
       "      <td>trendsetters</td>\n",
       "      <td>444</td>\n",
       "    </tr>\n",
       "    <tr>\n",
       "      <th>2430</th>\n",
       "      <td>selalumacamni</td>\n",
       "      <td>444</td>\n",
       "    </tr>\n",
       "    <tr>\n",
       "      <th>...</th>\n",
       "      <td>...</td>\n",
       "      <td>...</td>\n",
       "    </tr>\n",
       "    <tr>\n",
       "      <th>1333909</th>\n",
       "      <td>itstookieagain</td>\n",
       "      <td>2</td>\n",
       "    </tr>\n",
       "    <tr>\n",
       "      <th>1333910</th>\n",
       "      <td>itstoolatebro</td>\n",
       "      <td>2</td>\n",
       "    </tr>\n",
       "    <tr>\n",
       "      <th>1333911</th>\n",
       "      <td>itstoolateforthat</td>\n",
       "      <td>2</td>\n",
       "    </tr>\n",
       "    <tr>\n",
       "      <th>1333912</th>\n",
       "      <td>itstoolateforyou</td>\n",
       "      <td>2</td>\n",
       "    </tr>\n",
       "    <tr>\n",
       "      <th>1333913</th>\n",
       "      <td>itstoolatetoapologize</td>\n",
       "      <td>2</td>\n",
       "    </tr>\n",
       "    <tr>\n",
       "      <th>1333914</th>\n",
       "      <td>itstoolatetobeup</td>\n",
       "      <td>2</td>\n",
       "    </tr>\n",
       "    <tr>\n",
       "      <th>1333915</th>\n",
       "      <td>itstoolatetomakeitright</td>\n",
       "      <td>2</td>\n",
       "    </tr>\n",
       "    <tr>\n",
       "      <th>1333916</th>\n",
       "      <td>itstoolitt</td>\n",
       "      <td>2</td>\n",
       "    </tr>\n",
       "    <tr>\n",
       "      <th>1333917</th>\n",
       "      <td>itstoolong</td>\n",
       "      <td>2</td>\n",
       "    </tr>\n",
       "    <tr>\n",
       "      <th>1333918</th>\n",
       "      <td>itstoolongforme</td>\n",
       "      <td>2</td>\n",
       "    </tr>\n",
       "    <tr>\n",
       "      <th>1333919</th>\n",
       "      <td>itstooloudinhere</td>\n",
       "      <td>2</td>\n",
       "    </tr>\n",
       "    <tr>\n",
       "      <th>1333920</th>\n",
       "      <td>itstoomuchtoask</td>\n",
       "      <td>2</td>\n",
       "    </tr>\n",
       "    <tr>\n",
       "      <th>1333921</th>\n",
       "      <td>itstoonice</td>\n",
       "      <td>2</td>\n",
       "    </tr>\n",
       "    <tr>\n",
       "      <th>1333922</th>\n",
       "      <td>itstooniceoutside</td>\n",
       "      <td>2</td>\n",
       "    </tr>\n",
       "    <tr>\n",
       "      <th>1333923</th>\n",
       "      <td>itstooperfect</td>\n",
       "      <td>2</td>\n",
       "    </tr>\n",
       "    <tr>\n",
       "      <th>1333924</th>\n",
       "      <td>itstooquiet</td>\n",
       "      <td>2</td>\n",
       "    </tr>\n",
       "    <tr>\n",
       "      <th>1333925</th>\n",
       "      <td>itstoorelaxing</td>\n",
       "      <td>2</td>\n",
       "    </tr>\n",
       "    <tr>\n",
       "      <th>1333926</th>\n",
       "      <td>itstoosunny</td>\n",
       "      <td>2</td>\n",
       "    </tr>\n",
       "    <tr>\n",
       "      <th>1333927</th>\n",
       "      <td>itstoougly</td>\n",
       "      <td>2</td>\n",
       "    </tr>\n",
       "    <tr>\n",
       "      <th>1333928</th>\n",
       "      <td>itstooyummy</td>\n",
       "      <td>2</td>\n",
       "    </tr>\n",
       "    <tr>\n",
       "      <th>1333929</th>\n",
       "      <td>itstopstoday</td>\n",
       "      <td>2</td>\n",
       "    </tr>\n",
       "    <tr>\n",
       "      <th>1333930</th>\n",
       "      <td>itstorchertape</td>\n",
       "      <td>2</td>\n",
       "    </tr>\n",
       "    <tr>\n",
       "      <th>1333931</th>\n",
       "      <td>itstotallycool</td>\n",
       "      <td>2</td>\n",
       "    </tr>\n",
       "    <tr>\n",
       "      <th>1333932</th>\n",
       "      <td>itstotallytuesday</td>\n",
       "      <td>2</td>\n",
       "    </tr>\n",
       "    <tr>\n",
       "      <th>1333933</th>\n",
       "      <td>itstotesnotcute</td>\n",
       "      <td>2</td>\n",
       "    </tr>\n",
       "    <tr>\n",
       "      <th>1333934</th>\n",
       "      <td>itstoughouthere</td>\n",
       "      <td>2</td>\n",
       "    </tr>\n",
       "    <tr>\n",
       "      <th>1333935</th>\n",
       "      <td>itstrailingme</td>\n",
       "      <td>2</td>\n",
       "    </tr>\n",
       "    <tr>\n",
       "      <th>1333936</th>\n",
       "      <td>itstrainingseason</td>\n",
       "      <td>2</td>\n",
       "    </tr>\n",
       "    <tr>\n",
       "      <th>1333937</th>\n",
       "      <td>itstrashywhenyou</td>\n",
       "      <td>2</td>\n",
       "    </tr>\n",
       "    <tr>\n",
       "      <th>1333938</th>\n",
       "      <td>ﾟ皿ﾟ</td>\n",
       "      <td>2</td>\n",
       "    </tr>\n",
       "  </tbody>\n",
       "</table>\n",
       "<p>1331538 rows × 2 columns</p>\n",
       "</div>"
      ],
      "text/plain": [
       "                         hashtag  count_adopters\n",
       "2401                   southside             450\n",
       "2402                     newyork             450\n",
       "2403                       dandh             449\n",
       "2404                 greysonfact             449\n",
       "2405                likehonestly             448\n",
       "2406                        whoa             448\n",
       "2407     sticksandstonestour2012             448\n",
       "2408                 whatthefuck             448\n",
       "2409                     alfateh             448\n",
       "2410                        theq             448\n",
       "2411              thebestfeeling             448\n",
       "2412                  areallibra             448\n",
       "2413                     imsorry             447\n",
       "2414                     reality             447\n",
       "2415              thatmomentwhen             447\n",
       "2416                      logies             446\n",
       "2417                        full             446\n",
       "2418                    mitt2012             446\n",
       "2419                       dream             446\n",
       "2420                baseballswag             446\n",
       "2421                     mynigga             446\n",
       "2422                teamselfmade             446\n",
       "2423                      stoned             445\n",
       "2424                 makeachange             445\n",
       "2425                   sofargone             445\n",
       "2426                    baseball             445\n",
       "2427                      lebron             445\n",
       "2428                   theweeknd             445\n",
       "2429                trendsetters             444\n",
       "2430               selalumacamni             444\n",
       "...                          ...             ...\n",
       "1333909           itstookieagain               2\n",
       "1333910            itstoolatebro               2\n",
       "1333911        itstoolateforthat               2\n",
       "1333912         itstoolateforyou               2\n",
       "1333913    itstoolatetoapologize               2\n",
       "1333914         itstoolatetobeup               2\n",
       "1333915  itstoolatetomakeitright               2\n",
       "1333916               itstoolitt               2\n",
       "1333917               itstoolong               2\n",
       "1333918          itstoolongforme               2\n",
       "1333919         itstooloudinhere               2\n",
       "1333920          itstoomuchtoask               2\n",
       "1333921               itstoonice               2\n",
       "1333922        itstooniceoutside               2\n",
       "1333923            itstooperfect               2\n",
       "1333924              itstooquiet               2\n",
       "1333925           itstoorelaxing               2\n",
       "1333926              itstoosunny               2\n",
       "1333927               itstoougly               2\n",
       "1333928              itstooyummy               2\n",
       "1333929             itstopstoday               2\n",
       "1333930           itstorchertape               2\n",
       "1333931           itstotallycool               2\n",
       "1333932        itstotallytuesday               2\n",
       "1333933          itstotesnotcute               2\n",
       "1333934          itstoughouthere               2\n",
       "1333935            itstrailingme               2\n",
       "1333936        itstrainingseason               2\n",
       "1333937         itstrashywhenyou               2\n",
       "1333938                      ﾟ皿ﾟ               2\n",
       "\n",
       "[1331538 rows x 2 columns]"
      ]
     },
     "execution_count": 13,
     "metadata": {},
     "output_type": "execute_result"
    }
   ],
   "source": [
    "ht_df[ht_df[\"count_adopters\"]<=450]"
   ]
  },
  {
   "cell_type": "code",
   "execution_count": 14,
   "metadata": {
    "collapsed": false
   },
   "outputs": [
    {
     "data": {
      "text/html": [
       "<div>\n",
       "<table border=\"1\" class=\"dataframe\">\n",
       "  <thead>\n",
       "    <tr style=\"text-align: right;\">\n",
       "      <th></th>\n",
       "      <th>hashtag</th>\n",
       "      <th>count_adopters</th>\n",
       "    </tr>\n",
       "  </thead>\n",
       "  <tbody>\n",
       "    <tr>\n",
       "      <th>3</th>\n",
       "      <td>thoughtsduringschool</td>\n",
       "      <td>50928</td>\n",
       "    </tr>\n",
       "  </tbody>\n",
       "</table>\n",
       "</div>"
      ],
      "text/plain": [
       "                hashtag  count_adopters\n",
       "3  thoughtsduringschool           50928"
      ]
     },
     "execution_count": 14,
     "metadata": {},
     "output_type": "execute_result"
    }
   ],
   "source": [
    "ht_df[ht_df[\"hashtag\"]==\"thoughtsduringschool\"]"
   ]
  },
  {
   "cell_type": "code",
   "execution_count": 15,
   "metadata": {
    "collapsed": false
   },
   "outputs": [
    {
     "data": {
      "text/html": [
       "<div>\n",
       "<table border=\"1\" class=\"dataframe\">\n",
       "  <thead>\n",
       "    <tr style=\"text-align: right;\">\n",
       "      <th></th>\n",
       "      <th>hashtag</th>\n",
       "      <th>count_adopters</th>\n",
       "    </tr>\n",
       "  </thead>\n",
       "  <tbody>\n",
       "    <tr>\n",
       "      <th>3552</th>\n",
       "      <td>madonna</td>\n",
       "      <td>300</td>\n",
       "    </tr>\n",
       "  </tbody>\n",
       "</table>\n",
       "</div>"
      ],
      "text/plain": [
       "      hashtag  count_adopters\n",
       "3552  madonna             300"
      ]
     },
     "execution_count": 15,
     "metadata": {},
     "output_type": "execute_result"
    }
   ],
   "source": [
    "ht_df[ht_df[\"hashtag\"]==\"madonna\"]"
   ]
  },
  {
   "cell_type": "code",
   "execution_count": 16,
   "metadata": {
    "collapsed": false
   },
   "outputs": [
    {
     "name": "stdout",
     "output_type": "stream",
     "text": [
      "There are 402 infected nodes for the hashtags lebron\n",
      "CPU times: user 400 ms, sys: 16 ms, total: 416 ms\n",
      "Wall time: 415 ms\n"
     ]
    }
   ],
   "source": [
    "%%time\n",
    "#guncontrol teamunicorns genocide  ThoughtsDuringSchool madonna\n",
    "hashtag='lebron'\n",
    "df = extract_from_hash(hashtag,\"../../../virality2013/timeline_tag.anony.dat\",extended = False)\n",
    "t=find_infected_vertex(df)\n",
    "t_timeline = fin_infected_timeline(df)\n",
    "print(\"There are %s infected nodes for the hashtags %s\" %(len(t),hashtag))"
   ]
  },
  {
   "cell_type": "code",
   "execution_count": 17,
   "metadata": {
    "collapsed": false
   },
   "outputs": [],
   "source": [
    "#evaluate quantity over time\n",
    "#work in progress\n",
    "#len(t)==len(t_timeline)"
   ]
  },
  {
   "cell_type": "code",
   "execution_count": 18,
   "metadata": {
    "collapsed": true,
    "scrolled": true
   },
   "outputs": [],
   "source": [
    "def compute_shortest(couple):\n",
    "    if couple[0] not in master_nodes or couple[1] not in master_nodes:\n",
    "        return None\n",
    "    else:\n",
    "        try:\n",
    "            nodes=nx.shortest_path(g1,source=couple[0],target=couple[1])\n",
    "        except Exception as e:\n",
    "            print('Failed at stage %s %s for reason : %s' %(couple[0],couple[1],e))\n",
    "            nodes=None\n",
    "        return nodes\n",
    "    \n",
    "def compute_shortest_speed(couple):\n",
    "    #without if control, loop is 10x faster\n",
    "    try:\n",
    "        nodes=nx.shortest_path(g1,source=couple[0],target=couple[1])\n",
    "    except Exception as e:\n",
    "        #print('Failed at stage %s %s for reason : %s' %(couple[0],couple[1],e))\n",
    "        nodes=None\n",
    "    return nodes"
   ]
  },
  {
   "cell_type": "code",
   "execution_count": 19,
   "metadata": {
    "collapsed": false
   },
   "outputs": [
    {
     "name": "stdout",
     "output_type": "stream",
     "text": [
      "80601\n",
      "Done processing in 0:00:09.750334\n",
      "CPU times: user 268 ms, sys: 760 ms, total: 1.03 s\n",
      "Wall time: 10.5 s\n"
     ]
    }
   ],
   "source": [
    "%%time\n",
    "#combination multiprocessed\n",
    "#multiprocessing alternatives\n",
    "import multiprocessing as mp\n",
    "import datetime\n",
    "\n",
    "\n",
    "master_nodes=g1.nodes()\n",
    "combi = list(combinations(t,2))\n",
    "print(len(combi))\n",
    "\n",
    "try:\n",
    "    pool = mp.Pool(processes=8)\n",
    "    start_time=datetime.datetime.now()\n",
    "    nodes_ = pool.map(compute_shortest_speed,combi)\n",
    "    pool.close()\n",
    "    pool.join()\n",
    "    elapsed=datetime.datetime.now()-start_time\n",
    "    print(\"Done processing in %s\" %(elapsed))\n",
    "except Exception as e:\n",
    "    print(e)\n",
    "    pool.close()\n",
    "    pool.join()\n",
    "    print('Pool successfuly closed!')\n",
    "\n",
    "\n",
    "#purge\n",
    "del combi\n",
    "del master_nodes"
   ]
  },
  {
   "cell_type": "code",
   "execution_count": 20,
   "metadata": {
    "collapsed": true
   },
   "outputs": [],
   "source": [
    "#filter none\n",
    "nodes_ = [x  for x in nodes_ if x]"
   ]
  },
  {
   "cell_type": "code",
   "execution_count": 21,
   "metadata": {
    "collapsed": true
   },
   "outputs": [],
   "source": [
    "def to_flat(liste_):\n",
    "    flat=[]\n",
    "    for element in liste_:\n",
    "        try:\n",
    "            flat.append([x for x in element])\n",
    "        except Exception as e:\n",
    "            print(e)\n",
    "    return flat"
   ]
  },
  {
   "cell_type": "code",
   "execution_count": 22,
   "metadata": {
    "collapsed": false
   },
   "outputs": [
    {
     "name": "stdout",
     "output_type": "stream",
     "text": [
      "369952\n",
      "CPU times: user 28 ms, sys: 0 ns, total: 28 ms\n",
      "Wall time: 30.5 ms\n"
     ]
    }
   ],
   "source": [
    "%%time\n",
    "#nodes_=np.array(flat).flatten()\n",
    "flat=[val for sublist in nodes_ for val in sublist]\n",
    "print(len(flat))\n",
    "#flat_=[val for sublist in flat_ for val in sublist]"
   ]
  },
  {
   "cell_type": "code",
   "execution_count": null,
   "metadata": {
    "collapsed": false,
    "scrolled": true
   },
   "outputs": [
    {
     "data": {
      "text/plain": [
       "27027"
      ]
     },
     "execution_count": 23,
     "metadata": {},
     "output_type": "execute_result"
    }
   ],
   "source": [
    "#flat = sample_nodes(flat,1)\n",
    "h=g1.subgraph(flat)\n",
    "len(h.nodes())"
   ]
  },
  {
   "cell_type": "code",
   "execution_count": null,
   "metadata": {
    "collapsed": false
   },
   "outputs": [],
   "source": [
    "%%time\n",
    "\n",
    "color_map=[]\n",
    "size = []\n",
    "for node in h:\n",
    "    if node in t:\n",
    "        color_map.append('red')\n",
    "        size.append(40)\n",
    "    else:\n",
    "        color_map.append('grey')\n",
    "        size.append(10)\n",
    "        \n",
    "options_3 = {\n",
    " 'with_labels': False,\n",
    " 'node_color': color_map,\n",
    " 'node_size': size,\n",
    " 'linewidths': 1,\n",
    " 'width': 0.2,\n",
    " 'alpha': 0.4\n",
    "}\n",
    "\n",
    "\n",
    "\n",
    "plt.figure(figsize=(12,12))\n",
    "\n",
    "nx.draw_spring(h, **options_3)\n",
    "plt.savefig(\"%s_shortest_path.png\" %(hashtag), dpi=300)\n",
    "plt.show()"
   ]
  },
  {
   "cell_type": "code",
   "execution_count": null,
   "metadata": {
    "collapsed": false
   },
   "outputs": [],
   "source": [
    "degree_sequence=sorted(nx.degree(h).values(),reverse=True) # degree sequence\n",
    "\n",
    "plt.figure(figsize=(10,10))\n",
    "plt.loglog(degree_sequence,'b-',marker='o')\n",
    "plt.title(\"Degree rank plot shortest path connectivity\")\n",
    "plt.ylabel(\"degree\")\n",
    "plt.xlabel(\"rank\")\n",
    "\n",
    "plt.show()"
   ]
  },
  {
   "cell_type": "code",
   "execution_count": null,
   "metadata": {
    "collapsed": false
   },
   "outputs": [],
   "source": [
    "%%time\n",
    "#add old\n",
    "df1 = pd.read_csv('../../../virality2013/follower_gcc.anony.dat',sep=' ',header=None,names=[\"user_1\",\"user_2\"])\n",
    "df1=query_from_vertices(df1,t)\n",
    "\n",
    "h_=nx.from_pandas_dataframe(df1,source=\"user_1\",target=\"user_2\") #.to_undirected()\n",
    "del df1 #supress to free memory\n",
    "h_ = h_.to_undirected()\n",
    "\n",
    "\n",
    "#compose\n",
    "composed = nx.compose(h,h_)"
   ]
  },
  {
   "cell_type": "code",
   "execution_count": null,
   "metadata": {
    "collapsed": false
   },
   "outputs": [],
   "source": [
    "degree_sequence=sorted(nx.degree(h_).values(),reverse=True) # degree sequence\n",
    "\n",
    "plt.figure(figsize=(10,10))\n",
    "plt.loglog(degree_sequence,'b-',marker='o')\n",
    "plt.title(\"Degree rank plot for grapped graph\")\n",
    "plt.ylabel(\"degree\")\n",
    "plt.xlabel(\"rank\")\n",
    "\n",
    "plt.show()"
   ]
  },
  {
   "cell_type": "code",
   "execution_count": null,
   "metadata": {
    "collapsed": false
   },
   "outputs": [],
   "source": [
    "%%time\n",
    "\n",
    "color_map=[]\n",
    "size = []\n",
    "for node in composed:\n",
    "    if node in t:\n",
    "        color_map.append('red')\n",
    "        size.append(40)\n",
    "    else:\n",
    "        color_map.append('grey')\n",
    "        size.append(10)\n",
    "        \n",
    "options_3 = {\n",
    " 'with_labels': False,\n",
    " 'node_color': color_map,\n",
    " 'node_size': size,\n",
    " 'linewidths': 1,\n",
    " 'width': 0.2,\n",
    " 'alpha': 0.4\n",
    "}\n",
    "\n",
    "\n",
    "\n",
    "plt.figure(figsize=(12,12))\n",
    "\n",
    "nx.draw_spring(h, **options_3)\n",
    "plt.savefig(\"output_pictures/%s_composed.png\" %(hashtag), dpi=300)\n",
    "plt.show()"
   ]
  },
  {
   "cell_type": "code",
   "execution_count": null,
   "metadata": {
    "collapsed": false
   },
   "outputs": [],
   "source": [
    "degree_sequence=sorted(nx.degree(composed).values(),reverse=True) # degree sequence\n",
    "\n",
    "plt.figure(figsize=(10,10))\n",
    "plt.loglog(degree_sequence,'b-',marker='o')\n",
    "plt.title(\"Degree rank plot for composed graph of both methodologies\")\n",
    "plt.ylabel(\"degree\")\n",
    "plt.xlabel(\"rank\")\n",
    "\n",
    "plt.show()"
   ]
  },
  {
   "cell_type": "markdown",
   "metadata": {},
   "source": [
    "## IV. Extracting graph features:"
   ]
  },
  {
   "cell_type": "markdown",
   "metadata": {},
   "source": [
    "In this section, we create all the features used to assess the virality of a given graph in the paper."
   ]
  },
  {
   "cell_type": "markdown",
   "metadata": {},
   "source": [
    "- #### Network features"
   ]
  },
  {
   "cell_type": "code",
   "execution_count": null,
   "metadata": {
    "collapsed": false
   },
   "outputs": [],
   "source": [
    "#Number of early adopters : is the set of distinct adopters in the earliest n tweets of a meme h.\n",
    "#For n=50\n",
    "def get_early_adopters(n, df):\n",
    "    user = []\n",
    "    for col in df.columns[1:(n+1)]:\n",
    "        array=split_clean(df[col])\n",
    "        user.append(array[0][1])\n",
    "    return user\n",
    "\n",
    "early_adopters = get_early_adopters(50, df)\n",
    "print(len(set(early_adopters)), \"early adopters\")"
   ]
  },
  {
   "cell_type": "code",
   "execution_count": null,
   "metadata": {
    "collapsed": false
   },
   "outputs": [],
   "source": [
    "#Size of first surface\n",
    "#The second surface includes uninfected users in the second surface of early adopters,\n",
    "#characterizing the number of potential adopters within two steps\n",
    "def get_surface(df,liste_):\n",
    "    df=df[(df['user_1'].isin(liste_)) | (df[\"user_2\"].isin(liste_))]\n",
    "    df=np.unique(df)\n",
    "    df = [x for x in df if x not in liste_] #on supprime les nodes infectés\n",
    "    return df\n",
    "first_surface = get_surface(df1, early_adopters)\n",
    "print(len(first_surface), \"size of first surface\")"
   ]
  },
  {
   "cell_type": "code",
   "execution_count": null,
   "metadata": {
    "collapsed": true
   },
   "outputs": [],
   "source": [
    "#Size of second surface\n",
    "#The first surface contains all the uninfected neighbors of early adopters of h.\n",
    "second_surface = get_surface(df1, first_surface)\n",
    "print(len(second_surface), \"size of first surface\")"
   ]
  },
  {
   "cell_type": "markdown",
   "metadata": {},
   "source": [
    "- #### Distance features"
   ]
  },
  {
   "cell_type": "code",
   "execution_count": null,
   "metadata": {
    "collapsed": true
   },
   "outputs": [],
   "source": [
    "#Average step distance\n",
    "if nx.is_connected(h):\n",
    "    average_step_distance = nx.average_shortest_path_length(h)\n",
    "else:\n",
    "    average_step_distance=[]\n",
    "    for g in nx.connected_component_subgraphs(h):\n",
    "        average_step_distance.append(nx.average_shortest_path_length(g))\n",
    "average_step_distance"
   ]
  },
  {
   "cell_type": "code",
   "execution_count": null,
   "metadata": {
    "collapsed": true
   },
   "outputs": [],
   "source": []
  },
  {
   "cell_type": "code",
   "execution_count": null,
   "metadata": {
    "collapsed": true
   },
   "outputs": [],
   "source": []
  },
  {
   "cell_type": "markdown",
   "metadata": {},
   "source": [
    "- #### Community features"
   ]
  },
  {
   "cell_type": "code",
   "execution_count": null,
   "metadata": {
    "collapsed": true
   },
   "outputs": [],
   "source": []
  },
  {
   "cell_type": "code",
   "execution_count": null,
   "metadata": {
    "collapsed": true
   },
   "outputs": [],
   "source": []
  },
  {
   "cell_type": "code",
   "execution_count": null,
   "metadata": {
    "collapsed": true
   },
   "outputs": [],
   "source": []
  }
 ],
 "metadata": {
  "kernelspec": {
   "display_name": "Python 2",
   "language": "python",
   "name": "python2"
  },
  "language_info": {
   "codemirror_mode": {
    "name": "ipython",
    "version": 2
   },
   "file_extension": ".py",
   "mimetype": "text/x-python",
   "name": "python",
   "nbconvert_exporter": "python",
   "pygments_lexer": "ipython2",
   "version": "2.7.13"
  }
 },
 "nbformat": 4,
 "nbformat_minor": 2
}
