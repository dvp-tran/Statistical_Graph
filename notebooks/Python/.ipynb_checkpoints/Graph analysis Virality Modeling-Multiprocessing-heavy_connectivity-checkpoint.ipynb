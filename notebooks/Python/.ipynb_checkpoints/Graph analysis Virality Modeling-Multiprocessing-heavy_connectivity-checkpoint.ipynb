{
 "cells": [
  {
   "cell_type": "markdown",
   "metadata": {},
   "source": [
    "# Graph exploration & analysis"
   ]
  },
  {
   "cell_type": "markdown",
   "metadata": {},
   "source": [
    "--------------"
   ]
  },
  {
   "cell_type": "markdown",
   "metadata": {},
   "source": [
    "## Preliminaries"
   ]
  },
  {
   "cell_type": "markdown",
   "metadata": {},
   "source": [
    "- ### Objective :"
   ]
  },
  {
   "cell_type": "markdown",
   "metadata": {},
   "source": [
    "Predict the virality of memes/hashtags in a social network (Twitter)."
   ]
  },
  {
   "cell_type": "markdown",
   "metadata": {},
   "source": [
    "- ### Context and motivations :"
   ]
  },
  {
   "cell_type": "markdown",
   "metadata": {},
   "source": [
    "Virality is, in social networks, an important issue for corporations, political campaigns and influencers as they spend enormous resources and efforts to make their products or messages go viral in order to catch attention and spread their influence/activities to a wider audience.\n",
    "Thus, understanding the complex mechanism of virality may help one control its effects over the network:\n",
    "- How does the network structure affect the diffusion? \n",
    "- How to model the contagion, etc.\n",
    "\n",
    "Proposal brought by the paper : the  broad idea is that network communities allow predict virality by its early spreading pattern. A simple, popular approach in studying hashtags diffusion is to consider hashtags as diseases and apply epidemic models. However, recent studies demonstrate that diseases and behaviors spread differently.\n",
    "We can see huge potentiality for applications in social media marketing : social networks could give better advice to their users as to which posts are likely to give best advertising Return on Investment.\n"
   ]
  },
  {
   "cell_type": "markdown",
   "metadata": {},
   "source": [
    "- ### Imports"
   ]
  },
  {
   "cell_type": "code",
   "execution_count": 1,
   "metadata": {
    "collapsed": true
   },
   "outputs": [],
   "source": [
    "import pandas as pd\n",
    "import seaborn as sns\n",
    "import networkx as nx\n",
    "import matplotlib.pyplot as plt\n",
    "import numpy as np\n",
    "from scipy import stats\n",
    "from itertools import product\n",
    "from itertools import permutations, combinations\n",
    "%matplotlib inline"
   ]
  },
  {
   "cell_type": "markdown",
   "metadata": {},
   "source": [
    "## I. Data exploration"
   ]
  },
  {
   "cell_type": "markdown",
   "metadata": {},
   "source": [
    "**** CITATION ****\n",
    "Please cite our paper as follows, when you are using our dataset:\n",
    "Lilian Weng, Filippo Menczer, and Yong-Yeol Ahn. Virality Prediction and Community Structure in Social Networks. Nature Scientific Report. (3)2522, 2013.\n",
    "\n",
    "\n",
    "\n",
    "**** DATA SOURCE ****\n",
    "Sampled public tweets from Twitter streaming API (https://dev.twitter.com/docs/streaming-apis).\n",
    "Date range: March 24, 2012 to April 25, 2012.\n",
    "\n",
    "\n",
    "\n",
    "**** NETWORKS ****\n",
    "follower_gcc.anony.dat:\n",
    "    Format: anony.user1.ID anony.user2.ID\n",
    "    Anonymized reciprocal follower network.\n",
    "    Each edge is a pair of Twitter user who are following each other. After recovering the reciprocal follower network, the giant connected component is extracted.\n",
    "\n",
    "retweet_gcc.anony.dat:\n",
    "    Format: anony.user1.ID anony.user2.ID weight\n",
    "    Anonymized reciprocal retweet network.\n",
    "    Similarly to follower_gcc.anony.dat, but instead each edge is a pair of users who retweeted each other at least once during our observation time window. Weight is the sum of how many times user1 retweeted user2 or user2 retweeted user1.\n",
    "\n",
    "mention_gcc.anony.dat:\n",
    "    Format: anony.user1.ID anony.user2.ID weight\n",
    "    Anonymized reciprocal retweet network.\n",
    "    Similarly to follower_gcc.anony.dat, but instead each edge is a pair of users who mentioned each other at least once during our observation time window. Weight is the sum of how many times user1 mentioned user2 or user2 mentioned user1.\n",
    "\n",
    "\n",
    "\n",
    "**** HASHTAG SEQUENCES ****\n",
    "timeline_tag.anony.dat\n",
    "    Format: hashtag timestamp1,anony.user1.id timestamp2,anony.user2.id ...\n",
    "    Each line is a hashtag followed by the sequence of its adopters sorted by timestamp. A user is considered as an adopter of a hashtag once he/she starts using the hashtag. We only consider users who appear in the collected networks. The timestamp is the time when we see the hashtag in the user's tweets. The file includes both emergent hashtags and non-emergent ones.\n",
    "\n",
    "timeline_tag_rt.anony.dat\n",
    "    Format: hashtag timestamp1,anony.retweet_user1.id,anony.retweet_from_user1.id timestamp2,anony.retweet_user2.id,anony.tweet_from_user2.id ...\n",
    "    Each line is a hashtag followed by the sequence of its adopters retweeting about this hashtag from other users sorted by timestamp. A \"retweet_user\" retweets a message containing the hashtag from a \"retweet_from_user\". We only consider users who appear in the collected networks. The file includes both emergent hashtags and non-emergent ones.\n",
    "\n",
    "timeline_tag_men.anony.dat\n",
    "    Format: hashtag timestamp1,anony.mention_user1.id,anony.mentioned_user1.id timestamp2,anony.mention_user2.id,anony.mentioned_user2.id ...\n",
    "    Each line is a hashtag followed by the sequence of its adopters mentioning other users in messages containing this hashtags sorted by timestamp. A \"mention_user\" mentions a \"mentioned_user\" in a message with the target hashtag. We only consider users who appear in the collected networks. The file includes both emergent hashtags and non-emergent ones.\n",
    "\n",
    "\n",
    "\n",
    "** Note that users in these networks and timeline sequencies are anonymized in the same way so that the same IDs refer to the same Twitter users.**"
   ]
  },
  {
   "cell_type": "code",
   "execution_count": 2,
   "metadata": {
    "collapsed": true
   },
   "outputs": [],
   "source": [
    "#load from raw dat file into dataframes\n",
    "    #for relationships graphs\n",
    "df1 = pd.read_csv('../../../virality2013/follower_gcc.anony.dat',sep=' ',header=None,names=[\"user_1\",\"user_2\"])\n",
    "#df2 = pd.read_csv('../../../virality2013/mention_gcc.anony.dat',sep=' ',header=None,names=[\"user_1\",\"user_2\",\"weight\"])\n",
    "#df3 = pd.read_csv('../../../virality2013/retweet_gcc.anony.dat',sep=' ',header=None,names=[\"user_1\",\"user_2\",\"weight\"])\n",
    "    \n",
    "    #for hashtags spreading, the data format is too large to compute as matrix (over billion units)\n",
    "#df4 = pd.read_csv('../../../virality2013/timeline_tag.anony.dat',sep=' ',header=None,names=header_tl)\n",
    "#df5 = pd.read_csv('../../../virality2013/timeline_tag_men.anony.dat',sep=' ',header=None,names=header_tl_men)\n",
    "#df6 = pd.read_csv('../../../virality2013/timeline_tag_rt.anony.dat',sep=' ',header=None,names=header_tl_rt)"
   ]
  },
  {
   "cell_type": "markdown",
   "metadata": {},
   "source": [
    "- ### Hashtags analysis"
   ]
  },
  {
   "cell_type": "code",
   "execution_count": 3,
   "metadata": {},
   "outputs": [
    {
     "name": "stdout",
     "output_type": "stream",
     "text": [
      "Max len for a row : 363519\n",
      "Nb of hashtags : 1345913\n"
     ]
    }
   ],
   "source": [
    "ht=[]\n",
    "l=[]\n",
    "n=0\n",
    "with open('../../../virality2013/timeline_tag.anony.dat',\"r\") as f:\n",
    "    for line in f:\n",
    "        hashtag = line.split(\" \")[0]\n",
    "        size = len(line.split(\" \"))\n",
    "        ht.append(hashtag)\n",
    "        l.append(size)\n",
    "ht_df=pd.DataFrame()\n",
    "ht_df['hashtag']=ht\n",
    "ht_df['count_adopters']=l\n",
    "\n",
    "print(\"Max len for a row : %s\" %max(l))\n",
    "print(\"Nb of hashtags : %s\" %(len(ht)))"
   ]
  },
  {
   "cell_type": "code",
   "execution_count": 4,
   "metadata": {},
   "outputs": [
    {
     "name": "stderr",
     "output_type": "stream",
     "text": [
      "/usr/local/anaconda2/lib/python2.7/site-packages/ipykernel_launcher.py:2: FutureWarning: sort(columns=....) is deprecated, use sort_values(by=.....)\n",
      "  \n"
     ]
    }
   ],
   "source": [
    "ht_df = ht_df[ht_df['hashtag'].str.len() > 3] #filter meaningless hashtags\n",
    "ht_df.sort(columns='count_adopters',ascending=False,inplace=True)\n",
    "ht_df.reset_index(inplace=True,drop=True)"
   ]
  },
  {
   "cell_type": "code",
   "execution_count": 5,
   "metadata": {},
   "outputs": [
    {
     "data": {
      "text/plain": [
       "<matplotlib.text.Text at 0x11c1e8d10>"
      ]
     },
     "execution_count": 5,
     "metadata": {},
     "output_type": "execute_result"
    },
    {
     "data": {
      "image/png": "[encoded data removed]",
      "text/plain": [
       "<matplotlib.figure.Figure at 0x1169f25d0>"
      ]
     },
     "metadata": {},
     "output_type": "display_data"
    }
   ],
   "source": [
    "ht_df_ = ht_df[0:30]\n",
    "plt.figure(figsize=(12,12))\n",
    "a=sns.barplot(y=ht_df_['hashtag'],x=ht_df_['count_adopters'],palette=\"Blues_d\")\n",
    "a.set_title('Count for most popular hashtags')\n",
    "a.set_xlabel('Count')"
   ]
  },
  {
   "cell_type": "markdown",
   "metadata": {},
   "source": [
    "- ### Light Network Analysis:"
   ]
  },
  {
   "cell_type": "code",
   "execution_count": 6,
   "metadata": {},
   "outputs": [
    {
     "name": "stdout",
     "output_type": "stream",
     "text": [
      "CPU times: user 4min 17s, sys: 11.2 s, total: 4min 28s\n",
      "Wall time: 4min 26s\n"
     ]
    }
   ],
   "source": [
    "%%time\n",
    "g1 = nx.from_pandas_dataframe(df1,source=\"user_1\",target=\"user_2\") #.to_undirected()\n",
    "del df1 #supress to free memory\n",
    "g1 = g1.to_undirected()"
   ]
  },
  {
   "cell_type": "code",
   "execution_count": 7,
   "metadata": {},
   "outputs": [
    {
     "data": {
      "image/png": "[encoded data removed]",
      "text/plain": [
       "<matplotlib.figure.Figure at 0x10ca9e610>"
      ]
     },
     "metadata": {},
     "output_type": "display_data"
    },
    {
     "name": "stdout",
     "output_type": "stream",
     "text": [
      "CPU times: user 8.76 s, sys: 300 ms, total: 9.06 s\n",
      "Wall time: 9.02 s\n"
     ]
    }
   ],
   "source": [
    "%%time\n",
    "degree_sequence=sorted(nx.degree(g1).values(),reverse=True) # degree sequence\n",
    "#print \"Degree sequence\", degree_sequence\n",
    "dmax=max(degree_sequence)\n",
    "\n",
    "plt.figure(figsize=(10,10))\n",
    "plt.loglog(degree_sequence,'b-',marker='o')\n",
    "plt.title(\"Degree rank plot\")\n",
    "plt.ylabel(\"degree\")\n",
    "plt.xlabel(\"rank\")\n",
    "\n",
    "plt.show()"
   ]
  },
  {
   "cell_type": "code",
   "execution_count": 8,
   "metadata": {},
   "outputs": [
    {
     "data": {
      "image/png": "[encoded data removed]",
      "text/plain": [
       "<matplotlib.figure.Figure at 0x11c94a450>"
      ]
     },
     "metadata": {},
     "output_type": "display_data"
    },
    {
     "name": "stdout",
     "output_type": "stream",
     "text": [
      "CPU times: user 10.3 s, sys: 117 ms, total: 10.4 s\n",
      "Wall time: 10.4 s\n"
     ]
    }
   ],
   "source": [
    "%%time\n",
    "degree_sequence=nx.degree(g1).values()\n",
    "#print \"Degree sequence\", degree_sequence\n",
    "dmax=max(degree_sequence)\n",
    "\n",
    "plt.figure(figsize=(10,10))\n",
    "plt.loglog(degree_sequence,'b-',marker='o')\n",
    "plt.title(\"Nodes degree plot\")\n",
    "plt.ylabel(\"degree\")\n",
    "plt.xlabel(\"node\")\n",
    "\n",
    "plt.show()"
   ]
  },
  {
   "cell_type": "code",
   "execution_count": 9,
   "metadata": {},
   "outputs": [
    {
     "data": {
      "image/png": "[encoded data removed]",
      "text/plain": [
       "<matplotlib.figure.Figure at 0x11c9cbe90>"
      ]
     },
     "metadata": {},
     "output_type": "display_data"
    },
    {
     "name": "stdout",
     "output_type": "stream",
     "text": [
      "CPU times: user 27 s, sys: 365 ms, total: 27.3 s\n",
      "Wall time: 27.2 s\n"
     ]
    }
   ],
   "source": [
    "%%time\n",
    "degree_sequence=nx.degree(g1).values()\n",
    "#print \"Degree sequence\", degree_sequence\n",
    "dmax=max(degree_sequence)\n",
    "\n",
    "plt.figure(figsize=(10,10))\n",
    "plt.scatter(nx.degree(g1).keys(),degree_sequence)\n",
    "plt.title(\"Nodes degree plot\")\n",
    "plt.ylabel(\"degree\")\n",
    "plt.xlabel(\"node\")\n",
    "\n",
    "plt.show()"
   ]
  },
  {
   "cell_type": "raw",
   "metadata": {},
   "source": [
    "plt.figure(figsize=(12,12))\n",
    "plt.hist(degree_sequence)"
   ]
  },
  {
   "cell_type": "raw",
   "metadata": {},
   "source": [
    "#Degrees histograms\n",
    "\n",
    "\n",
    "degree_sequence=sorted(g1.degree().values(), reverse=True) # degree sequence\n",
    "#print \"Degree sequence\", degree_sequence\n",
    "degreeCount=collections.Counter(degree_sequence)\n",
    "deg, cnt = zip(*degreeCount.items())\n",
    "\n",
    "fig, ax = plt.subplots()\n",
    "plt.bar(deg, cnt, width=0.80, color='b')\n",
    "plt.figure(figsize=(12,12))\n",
    "plt.title(\"Degree Histogram\")\n",
    "plt.ylabel(\"Count\")\n",
    "plt.xlabel(\"Degree\")\n",
    "ax.set_xticks([d+0.4 for d in deg])\n",
    "ax.set_xticklabels(deg)\n",
    "\n",
    "plt.show()"
   ]
  },
  {
   "cell_type": "code",
   "execution_count": 10,
   "metadata": {
    "collapsed": true
   },
   "outputs": [],
   "source": [
    "#degree distribution"
   ]
  },
  {
   "cell_type": "raw",
   "metadata": {
    "collapsed": true
   },
   "source": [
    "%%time\n",
    "#edge betweeness to long to compute\n",
    "edge_betw = nx.edge_betweenness_centrality(g1)"
   ]
  },
  {
   "cell_type": "raw",
   "metadata": {},
   "source": [
    "%%time\n",
    "\n",
    "#Coefficients takes roughly ten minutes to compute on single core\n",
    "\n",
    "#Clustering coefficients for all nodes:\n",
    "cl_cf = nx.clustering(g1)\n",
    "#Nb of connected components:\n",
    "nx.number_connected_components(g1)"
   ]
  },
  {
   "cell_type": "markdown",
   "metadata": {},
   "source": [
    "## II. Sampling"
   ]
  },
  {
   "cell_type": "markdown",
   "metadata": {},
   "source": [
    "- ### Random node sampling: "
   ]
  },
  {
   "cell_type": "code",
   "execution_count": 11,
   "metadata": {
    "collapsed": true
   },
   "outputs": [],
   "source": [
    "def sample_nodes(node_list,ratio):\n",
    "    nb_sample = ratio*len(node_list)\n",
    "    nb_sample = int(nb_sample)\n",
    "    sample = np.random.choice(np.array(node_list),size=nb_sample)\n",
    "    return sample\n",
    "\n",
    "def get_nodes(g):\n",
    "    node_list = list(g.nodes())\n",
    "    return node_list\n",
    "\n",
    "def induced_graphed(vertex,g):\n",
    "    return "
   ]
  },
  {
   "cell_type": "code",
   "execution_count": 12,
   "metadata": {},
   "outputs": [
    {
     "name": "stdout",
     "output_type": "stream",
     "text": [
      "CPU times: user 60.4 ms, sys: 3.26 ms, total: 63.6 ms\n",
      "Wall time: 63.2 ms\n"
     ]
    }
   ],
   "source": [
    "%%time\n",
    "nodes1 = get_nodes(g1)\n",
    "sample = sample_nodes(nodes1,0.01)"
   ]
  },
  {
   "cell_type": "markdown",
   "metadata": {},
   "source": [
    "- ### Degree distribution sampling"
   ]
  },
  {
   "cell_type": "raw",
   "metadata": {
    "collapsed": true
   },
   "source": [
    "# Extract counts and values\n",
    "count, value = deg       # automatically unpacks along first axis\n",
    "\n",
    "\n",
    "# Generate vector of probabilities for each node\n",
    "#p = [float(x)/sum(count) for x in count]\n",
    "p = count.astype(float) / count.sum()\n",
    "\n",
    "# Load into a random variable for sampling\n",
    "x = rv_discrete(values=(value,p))\n",
    "print x.rvs(size=1)"
   ]
  },
  {
   "cell_type": "markdown",
   "metadata": {},
   "source": [
    "## III. Hashtags community:"
   ]
  },
  {
   "cell_type": "code",
   "execution_count": 13,
   "metadata": {
    "collapsed": true
   },
   "outputs": [],
   "source": [
    "def extract_from_hash(hashtag,file_path,extended=True):\n",
    "    mat = []    \n",
    "    if extended == True:\n",
    "        with open(file_path,\"r\") as f:\n",
    "            for line in f:\n",
    "                if hashtag in line:\n",
    "                    mat.append(line.split(\" \"))\n",
    "        pading =    max([len(x) for x in mat])      \n",
    "        mat = np.array([np.array(pad(x,pading)) for x in mat])\n",
    "        return pd.DataFrame(mat)\n",
    "    else:\n",
    "        with open(file_path,\"r\") as f:\n",
    "            for line in f:\n",
    "                if hashtag == line.split(\" \")[0]:\n",
    "                    mat.append(line.split(\" \"))\n",
    "                    break\n",
    "        pading =    max([len(x) for x in mat])      \n",
    "        mat = np.array([np.array(pad(x,pading)) for x in mat])\n",
    "        return pd.DataFrame(mat)\n",
    "\n",
    "def pad(list_,length):\n",
    "    return list_[:length] + [np.nan]*(length-len(list_))\n",
    "\n",
    "def find_infected_vertex(df):\n",
    "    keep=[]\n",
    "    for col in df.columns[1:]:\n",
    "        array=split_clean(df[col])\n",
    "        keep.append([x[1] for x in array if isinstance(x,list)])\n",
    "    return list(set([val for sublist in keep for val in sublist]))\n",
    "\n",
    "def fin_infected_timeline(df):\n",
    "    return\n",
    "\n",
    "def split_clean(list_):\n",
    "    array= [ x.split(\",\") for x in list_]\n",
    "    array= [ np.nan if x[0]=='nan' else [int(x[0]),int(x[1].strip('\\n'))] for x in array ]\n",
    "    return array\n",
    "\n",
    "def query_from_vertices(df,liste_):\n",
    "    df=df[(df['user_1'].isin(liste_)) | (df[\"user_2\"].isin(liste_))]\n",
    "    return df"
   ]
  },
  {
   "cell_type": "raw",
   "metadata": {},
   "source": [
    "%%time\n",
    "df = extract_from_hash('yolo',\"../../../virality2013/timeline_tag.anony.dat\",extended = True)"
   ]
  },
  {
   "cell_type": "raw",
   "metadata": {},
   "source": [
    "%%time\n",
    "df = extract_from_hash('yolo',\"../../../virality2013/timeline_tag.anony.dat\",extended = False)\n",
    "t=find_infected_vertex(df)\n",
    "\n",
    "#del g1\n",
    "df1 = pd.read_csv('../../../virality2013/follower_gcc.anony.dat',sep=' ',header=None,names=[\"user_1\",\"user_2\"])\n",
    "df1=query_from_vertices(df1,t)"
   ]
  },
  {
   "cell_type": "raw",
   "metadata": {},
   "source": [
    "%%time\n",
    "h=nx.from_pandas_dataframe(df1,source=\"user_1\",target=\"user_2\") #.to_undirected()\n",
    "del df1 #supress to free memory\n",
    "h = h.to_undirected()"
   ]
  },
  {
   "cell_type": "raw",
   "metadata": {},
   "source": [
    "%%time\n",
    "pos=nx.spring_layout(h)\n",
    "plt.figure(figsize=(12,12))\n",
    "nx.draw(h,pos,node_color='#A0CBE2',edge_color='#BB0000',width=1,with_labels=False,node_size=2)\n",
    "plt.savefig(\"graph2.png\", dpi=1000)\n",
    "plt.show()"
   ]
  },
  {
   "cell_type": "code",
   "execution_count": 14,
   "metadata": {
    "scrolled": true
   },
   "outputs": [
    {
     "data": {
      "text/html": [
       "<div>\n",
       "<table border=\"1\" class=\"dataframe\">\n",
       "  <thead>\n",
       "    <tr style=\"text-align: right;\">\n",
       "      <th></th>\n",
       "      <th>hashtag</th>\n",
       "      <th>count_adopters</th>\n",
       "    </tr>\n",
       "  </thead>\n",
       "  <tbody>\n",
       "    <tr>\n",
       "      <th>0</th>\n",
       "      <td>oomf</td>\n",
       "      <td>363519</td>\n",
       "    </tr>\n",
       "    <tr>\n",
       "      <th>1</th>\n",
       "      <td>teamfollowback</td>\n",
       "      <td>83065</td>\n",
       "    </tr>\n",
       "    <tr>\n",
       "      <th>2</th>\n",
       "      <td>bahrain</td>\n",
       "      <td>59278</td>\n",
       "    </tr>\n",
       "    <tr>\n",
       "      <th>3</th>\n",
       "      <td>thoughtsduringschool</td>\n",
       "      <td>50928</td>\n",
       "    </tr>\n",
       "    <tr>\n",
       "      <th>4</th>\n",
       "      <td>yolo</td>\n",
       "      <td>50257</td>\n",
       "    </tr>\n",
       "    <tr>\n",
       "      <th>5</th>\n",
       "      <td>dearoomf</td>\n",
       "      <td>40895</td>\n",
       "    </tr>\n",
       "    <tr>\n",
       "      <th>6</th>\n",
       "      <td>retweet</td>\n",
       "      <td>39098</td>\n",
       "    </tr>\n",
       "    <tr>\n",
       "      <th>7</th>\n",
       "      <td>taurus</td>\n",
       "      <td>35310</td>\n",
       "    </tr>\n",
       "    <tr>\n",
       "      <th>8</th>\n",
       "      <td>followback</td>\n",
       "      <td>31758</td>\n",
       "    </tr>\n",
       "    <tr>\n",
       "      <th>9</th>\n",
       "      <td>winning</td>\n",
       "      <td>30934</td>\n",
       "    </tr>\n",
       "    <tr>\n",
       "      <th>10</th>\n",
       "      <td>wheniwaslittle</td>\n",
       "      <td>30194</td>\n",
       "    </tr>\n",
       "    <tr>\n",
       "      <th>11</th>\n",
       "      <td>capricorn</td>\n",
       "      <td>29886</td>\n",
       "    </tr>\n",
       "    <tr>\n",
       "      <th>12</th>\n",
       "      <td>gemini</td>\n",
       "      <td>28940</td>\n",
       "    </tr>\n",
       "    <tr>\n",
       "      <th>13</th>\n",
       "      <td>cancer</td>\n",
       "      <td>28905</td>\n",
       "    </tr>\n",
       "    <tr>\n",
       "      <th>14</th>\n",
       "      <td>shoutout</td>\n",
       "      <td>28888</td>\n",
       "    </tr>\n",
       "    <tr>\n",
       "      <th>15</th>\n",
       "      <td>nowplaying</td>\n",
       "      <td>27833</td>\n",
       "    </tr>\n",
       "    <tr>\n",
       "      <th>16</th>\n",
       "      <td>aries</td>\n",
       "      <td>27786</td>\n",
       "    </tr>\n",
       "    <tr>\n",
       "      <th>17</th>\n",
       "      <td>imagine</td>\n",
       "      <td>26883</td>\n",
       "    </tr>\n",
       "    <tr>\n",
       "      <th>18</th>\n",
       "      <td>pisces</td>\n",
       "      <td>26616</td>\n",
       "    </tr>\n",
       "    <tr>\n",
       "      <th>19</th>\n",
       "      <td>20thingsilove</td>\n",
       "      <td>26098</td>\n",
       "    </tr>\n",
       "    <tr>\n",
       "      <th>20</th>\n",
       "      <td>sagittarius</td>\n",
       "      <td>25837</td>\n",
       "    </tr>\n",
       "    <tr>\n",
       "      <th>21</th>\n",
       "      <td>virgo</td>\n",
       "      <td>25507</td>\n",
       "    </tr>\n",
       "    <tr>\n",
       "      <th>22</th>\n",
       "      <td>dailytweet</td>\n",
       "      <td>25469</td>\n",
       "    </tr>\n",
       "    <tr>\n",
       "      <th>23</th>\n",
       "      <td>boyfriend</td>\n",
       "      <td>25144</td>\n",
       "    </tr>\n",
       "    <tr>\n",
       "      <th>24</th>\n",
       "      <td>scorpio</td>\n",
       "      <td>25011</td>\n",
       "    </tr>\n",
       "    <tr>\n",
       "      <th>25</th>\n",
       "      <td>follow</td>\n",
       "      <td>24807</td>\n",
       "    </tr>\n",
       "    <tr>\n",
       "      <th>26</th>\n",
       "      <td>aquarius</td>\n",
       "      <td>24532</td>\n",
       "    </tr>\n",
       "    <tr>\n",
       "      <th>27</th>\n",
       "      <td>thingsigetalot</td>\n",
       "      <td>23089</td>\n",
       "    </tr>\n",
       "    <tr>\n",
       "      <th>28</th>\n",
       "      <td>fact</td>\n",
       "      <td>22161</td>\n",
       "    </tr>\n",
       "    <tr>\n",
       "      <th>29</th>\n",
       "      <td>libra</td>\n",
       "      <td>22000</td>\n",
       "    </tr>\n",
       "    <tr>\n",
       "      <th>...</th>\n",
       "      <td>...</td>\n",
       "      <td>...</td>\n",
       "    </tr>\n",
       "    <tr>\n",
       "      <th>496</th>\n",
       "      <td>ouch</td>\n",
       "      <td>2122</td>\n",
       "    </tr>\n",
       "    <tr>\n",
       "      <th>497</th>\n",
       "      <td>teammindless</td>\n",
       "      <td>2118</td>\n",
       "    </tr>\n",
       "    <tr>\n",
       "      <th>498</th>\n",
       "      <td>imdone</td>\n",
       "      <td>2116</td>\n",
       "    </tr>\n",
       "    <tr>\n",
       "      <th>499</th>\n",
       "      <td>nolie</td>\n",
       "      <td>2110</td>\n",
       "    </tr>\n",
       "    <tr>\n",
       "      <th>500</th>\n",
       "      <td>1dquote</td>\n",
       "      <td>2108</td>\n",
       "    </tr>\n",
       "    <tr>\n",
       "      <th>501</th>\n",
       "      <td>amazing</td>\n",
       "      <td>2106</td>\n",
       "    </tr>\n",
       "    <tr>\n",
       "      <th>502</th>\n",
       "      <td>chasingthesun</td>\n",
       "      <td>2104</td>\n",
       "    </tr>\n",
       "    <tr>\n",
       "      <th>503</th>\n",
       "      <td>thankful</td>\n",
       "      <td>2100</td>\n",
       "    </tr>\n",
       "    <tr>\n",
       "      <th>504</th>\n",
       "      <td>feb14</td>\n",
       "      <td>2092</td>\n",
       "    </tr>\n",
       "    <tr>\n",
       "      <th>505</th>\n",
       "      <td>help</td>\n",
       "      <td>2092</td>\n",
       "    </tr>\n",
       "    <tr>\n",
       "      <th>506</th>\n",
       "      <td>itunes</td>\n",
       "      <td>2091</td>\n",
       "    </tr>\n",
       "    <tr>\n",
       "      <th>507</th>\n",
       "      <td>thethirst</td>\n",
       "      <td>2087</td>\n",
       "    </tr>\n",
       "    <tr>\n",
       "      <th>508</th>\n",
       "      <td>icarly</td>\n",
       "      <td>2087</td>\n",
       "    </tr>\n",
       "    <tr>\n",
       "      <th>509</th>\n",
       "      <td>ratchet</td>\n",
       "      <td>2080</td>\n",
       "    </tr>\n",
       "    <tr>\n",
       "      <th>510</th>\n",
       "      <td>relationshippains</td>\n",
       "      <td>2077</td>\n",
       "    </tr>\n",
       "    <tr>\n",
       "      <th>511</th>\n",
       "      <td>storyofmylife</td>\n",
       "      <td>2069</td>\n",
       "    </tr>\n",
       "    <tr>\n",
       "      <th>512</th>\n",
       "      <td>springbreak</td>\n",
       "      <td>2067</td>\n",
       "    </tr>\n",
       "    <tr>\n",
       "      <th>513</th>\n",
       "      <td>imprettysure</td>\n",
       "      <td>2057</td>\n",
       "    </tr>\n",
       "    <tr>\n",
       "      <th>514</th>\n",
       "      <td>ifwejustsmashing</td>\n",
       "      <td>2056</td>\n",
       "    </tr>\n",
       "    <tr>\n",
       "      <th>515</th>\n",
       "      <td>ivenoticedthat</td>\n",
       "      <td>2051</td>\n",
       "    </tr>\n",
       "    <tr>\n",
       "      <th>516</th>\n",
       "      <td>eastenders</td>\n",
       "      <td>2047</td>\n",
       "    </tr>\n",
       "    <tr>\n",
       "      <th>517</th>\n",
       "      <td>iran</td>\n",
       "      <td>2041</td>\n",
       "    </tr>\n",
       "    <tr>\n",
       "      <th>518</th>\n",
       "      <td>rhoa</td>\n",
       "      <td>2038</td>\n",
       "    </tr>\n",
       "    <tr>\n",
       "      <th>519</th>\n",
       "      <td>followingback</td>\n",
       "      <td>2029</td>\n",
       "    </tr>\n",
       "    <tr>\n",
       "      <th>520</th>\n",
       "      <td>pandora</td>\n",
       "      <td>2022</td>\n",
       "    </tr>\n",
       "    <tr>\n",
       "      <th>521</th>\n",
       "      <td>cosign</td>\n",
       "      <td>2019</td>\n",
       "    </tr>\n",
       "    <tr>\n",
       "      <th>522</th>\n",
       "      <td>truetweet</td>\n",
       "      <td>2019</td>\n",
       "    </tr>\n",
       "    <tr>\n",
       "      <th>523</th>\n",
       "      <td>crazy</td>\n",
       "      <td>2015</td>\n",
       "    </tr>\n",
       "    <tr>\n",
       "      <th>524</th>\n",
       "      <td>iknowwhyyoumad</td>\n",
       "      <td>2013</td>\n",
       "    </tr>\n",
       "    <tr>\n",
       "      <th>525</th>\n",
       "      <td>bestwaystogetridofagirl</td>\n",
       "      <td>2003</td>\n",
       "    </tr>\n",
       "  </tbody>\n",
       "</table>\n",
       "<p>526 rows × 2 columns</p>\n",
       "</div>"
      ],
      "text/plain": [
       "                     hashtag  count_adopters\n",
       "0                       oomf          363519\n",
       "1             teamfollowback           83065\n",
       "2                    bahrain           59278\n",
       "3       thoughtsduringschool           50928\n",
       "4                       yolo           50257\n",
       "5                   dearoomf           40895\n",
       "6                    retweet           39098\n",
       "7                     taurus           35310\n",
       "8                 followback           31758\n",
       "9                    winning           30934\n",
       "10            wheniwaslittle           30194\n",
       "11                 capricorn           29886\n",
       "12                    gemini           28940\n",
       "13                    cancer           28905\n",
       "14                  shoutout           28888\n",
       "15                nowplaying           27833\n",
       "16                     aries           27786\n",
       "17                   imagine           26883\n",
       "18                    pisces           26616\n",
       "19             20thingsilove           26098\n",
       "20               sagittarius           25837\n",
       "21                     virgo           25507\n",
       "22                dailytweet           25469\n",
       "23                 boyfriend           25144\n",
       "24                   scorpio           25011\n",
       "25                    follow           24807\n",
       "26                  aquarius           24532\n",
       "27            thingsigetalot           23089\n",
       "28                      fact           22161\n",
       "29                     libra           22000\n",
       "..                       ...             ...\n",
       "496                     ouch            2122\n",
       "497             teammindless            2118\n",
       "498                   imdone            2116\n",
       "499                    nolie            2110\n",
       "500                  1dquote            2108\n",
       "501                  amazing            2106\n",
       "502            chasingthesun            2104\n",
       "503                 thankful            2100\n",
       "504                    feb14            2092\n",
       "505                     help            2092\n",
       "506                   itunes            2091\n",
       "507                thethirst            2087\n",
       "508                   icarly            2087\n",
       "509                  ratchet            2080\n",
       "510        relationshippains            2077\n",
       "511            storyofmylife            2069\n",
       "512              springbreak            2067\n",
       "513             imprettysure            2057\n",
       "514         ifwejustsmashing            2056\n",
       "515           ivenoticedthat            2051\n",
       "516               eastenders            2047\n",
       "517                     iran            2041\n",
       "518                     rhoa            2038\n",
       "519            followingback            2029\n",
       "520                  pandora            2022\n",
       "521                   cosign            2019\n",
       "522                truetweet            2019\n",
       "523                    crazy            2015\n",
       "524           iknowwhyyoumad            2013\n",
       "525  bestwaystogetridofagirl            2003\n",
       "\n",
       "[526 rows x 2 columns]"
      ]
     },
     "execution_count": 14,
     "metadata": {},
     "output_type": "execute_result"
    }
   ],
   "source": [
    "ht_df[ht_df[\"count_adopters\"]>=2000]"
   ]
  },
  {
   "cell_type": "code",
   "execution_count": 15,
   "metadata": {},
   "outputs": [
    {
     "data": {
      "text/html": [
       "<div>\n",
       "<table border=\"1\" class=\"dataframe\">\n",
       "  <thead>\n",
       "    <tr style=\"text-align: right;\">\n",
       "      <th></th>\n",
       "      <th>hashtag</th>\n",
       "      <th>count_adopters</th>\n",
       "    </tr>\n",
       "  </thead>\n",
       "  <tbody>\n",
       "    <tr>\n",
       "      <th>3</th>\n",
       "      <td>thoughtsduringschool</td>\n",
       "      <td>50928</td>\n",
       "    </tr>\n",
       "  </tbody>\n",
       "</table>\n",
       "</div>"
      ],
      "text/plain": [
       "                hashtag  count_adopters\n",
       "3  thoughtsduringschool           50928"
      ]
     },
     "execution_count": 15,
     "metadata": {},
     "output_type": "execute_result"
    }
   ],
   "source": [
    "ht_df[ht_df[\"hashtag\"]==\"thoughtsduringschool\"]"
   ]
  },
  {
   "cell_type": "code",
   "execution_count": 16,
   "metadata": {},
   "outputs": [
    {
     "name": "stdout",
     "output_type": "stream",
     "text": [
      "CPU times: user 519 ms, sys: 31.9 ms, total: 551 ms\n",
      "Wall time: 551 ms\n"
     ]
    }
   ],
   "source": [
    "%%time\n",
    "#guncontrol teamunicorns genocide  ThoughtsDuringSchool\n",
    "hashtag='madonna'\n",
    "df = extract_from_hash(hashtag,\"../../../virality2013/timeline_tag.anony.dat\",extended = False)\n",
    "t=find_infected_vertex(df)"
   ]
  },
  {
   "cell_type": "code",
   "execution_count": 17,
   "metadata": {
    "collapsed": true
   },
   "outputs": [],
   "source": [
    "#evaluate quantity over time"
   ]
  },
  {
   "cell_type": "raw",
   "metadata": {
    "scrolled": true
   },
   "source": [
    "%%time\n",
    "#combination single core\n",
    "\n",
    "#10 minutes to compute for madonna\n",
    "master_nodes=g1.nodes()\n",
    "combi = combinations(t,2)\n",
    "nodes_=[]\n",
    "print(len(list(combinations(t,2))))\n",
    "for i,j in combi :\n",
    "    if i not in master_nodes or j not in master_nodes:\n",
    "        pass\n",
    "    else:\n",
    "        try:\n",
    "            nodes_.append(nx.shortest_path(g1,source=i,target=j))\n",
    "        except Exception as e:\n",
    "            print('Failed at stage %s %s for reason : %s' %(i,j,e))\n",
    "            \n",
    "#purge\n",
    "del combi\n",
    "del master_nodes"
   ]
  },
  {
   "cell_type": "code",
   "execution_count": 18,
   "metadata": {
    "collapsed": true,
    "scrolled": true
   },
   "outputs": [],
   "source": [
    "def compute_shortest(couple):\n",
    "    if couple[0] not in master_nodes or couple[1] not in master_nodes:\n",
    "        return None\n",
    "    else:\n",
    "        try:\n",
    "            nodes=nx.shortest_path(g1,source=couple[0],target=couple[1])\n",
    "        except Exception as e:\n",
    "            print('Failed at stage %s %s for reason : %s' %(couple[0],couple[1],e))\n",
    "            nodes=None\n",
    "        return nodes\n",
    "    \n",
    "def compute_shortest_speed(couple):\n",
    "    #without if control, loop is 10x faster\n",
    "    try:\n",
    "        nodes=nx.shortest_path(g1,source=couple[0],target=couple[1])\n",
    "    except Exception as e:\n",
    "        #print('Failed at stage %s %s for reason : %s' %(couple[0],couple[1],e))\n",
    "        nodes=None\n",
    "    return nodes"
   ]
  },
  {
   "cell_type": "code",
   "execution_count": 19,
   "metadata": {},
   "outputs": [
    {
     "name": "stdout",
     "output_type": "stream",
     "text": [
      "12561\n",
      "Done processing in 0:00:02.457396\n",
      "CPU times: user 89 ms, sys: 310 ms, total: 399 ms\n",
      "Wall time: 2.8 s\n"
     ]
    }
   ],
   "source": [
    "%%time\n",
    "#combination multiprocessed\n",
    "#multiprocessing alternatives\n",
    "import multiprocessing as mp\n",
    "import datetime\n",
    "\n",
    "\n",
    "master_nodes=g1.nodes()\n",
    "combi = list(combinations(t,2))\n",
    "print(len(combi))\n",
    "\n",
    "try:\n",
    "    pool = mp.Pool(processes=14)\n",
    "    start_time=datetime.datetime.now()\n",
    "    nodes_ = pool.map(compute_shortest_speed,combi)\n",
    "    pool.close()\n",
    "    pool.join()\n",
    "    elapsed=datetime.datetime.now()-start_time\n",
    "    print(\"Done processing in %s\" %(elapsed))\n",
    "except Exception as e:\n",
    "    print(e)\n",
    "    pool.close()\n",
    "    pool.join()\n",
    "    print('Pool successfuly closed!')\n",
    "\n",
    "\n",
    "#purge\n",
    "del combi\n",
    "del master_nodes"
   ]
  },
  {
   "cell_type": "code",
   "execution_count": 22,
   "metadata": {},
   "outputs": [],
   "source": [
    "#filter none\n",
    "nodes_ = [x  for x in nodes_ if x]"
   ]
  },
  {
   "cell_type": "code",
   "execution_count": 25,
   "metadata": {
    "collapsed": true
   },
   "outputs": [],
   "source": [
    "def to_flat(liste_):\n",
    "    flat=[]\n",
    "    for element in liste_:\n",
    "        try:\n",
    "            flat.append([x for x in element])\n",
    "        except Exception as e:\n",
    "            print(e)\n",
    "    return flat"
   ]
  },
  {
   "cell_type": "code",
   "execution_count": 29,
   "metadata": {},
   "outputs": [
    {
     "name": "stdout",
     "output_type": "stream",
     "text": [
      "CPU times: user 5.95 ms, sys: 3.09 ms, total: 9.04 ms\n",
      "Wall time: 6.68 ms\n"
     ]
    }
   ],
   "source": [
    "%%time\n",
    "#nodes_=np.array(flat).flatten()\n",
    "flat=[val for sublist in nodes_ for val in sublist]\n",
    "#flat_=[val for sublist in flat_ for val in sublist]"
   ]
  },
  {
   "cell_type": "code",
   "execution_count": 33,
   "metadata": {
    "scrolled": true
   },
   "outputs": [
    {
     "data": {
      "text/plain": [
       "8274"
      ]
     },
     "execution_count": 33,
     "metadata": {},
     "output_type": "execute_result"
    }
   ],
   "source": [
    "flat_ = sample_nodes(flat,0.1)\n",
    "h=g1.subgraph(flat_)\n",
    "len(h.edges())"
   ]
  },
  {
   "cell_type": "code",
   "execution_count": 34,
   "metadata": {},
   "outputs": [
    {
     "name": "stderr",
     "output_type": "stream",
     "text": [
      "/usr/local/anaconda2/lib/python2.7/site-packages/networkx/drawing/nx_pylab.py:126: MatplotlibDeprecationWarning: pyplot.hold is deprecated.\n",
      "    Future behavior will be consistent with the long-time default:\n",
      "    plot commands add elements without first clearing the\n",
      "    Axes and/or Figure.\n",
      "  b = plt.ishold()\n",
      "/usr/local/anaconda2/lib/python2.7/site-packages/networkx/drawing/nx_pylab.py:138: MatplotlibDeprecationWarning: pyplot.hold is deprecated.\n",
      "    Future behavior will be consistent with the long-time default:\n",
      "    plot commands add elements without first clearing the\n",
      "    Axes and/or Figure.\n",
      "  plt.hold(b)\n",
      "/usr/local/anaconda2/lib/python2.7/site-packages/matplotlib/__init__.py:917: UserWarning: axes.hold is deprecated. Please remove it from your matplotlibrc and/or style files.\n",
      "  warnings.warn(self.msg_depr_set % key)\n",
      "/usr/local/anaconda2/lib/python2.7/site-packages/matplotlib/rcsetup.py:152: UserWarning: axes.hold is deprecated, will be removed in 3.0\n",
      "  warnings.warn(\"axes.hold is deprecated, will be removed in 3.0\")\n"
     ]
    },
    {
     "data": {
      "image/png": "[encoded data removed]",
      "text/plain": [
       "<matplotlib.figure.Figure at 0x11c9e1050>"
      ]
     },
     "metadata": {},
     "output_type": "display_data"
    },
    {
     "name": "stdout",
     "output_type": "stream",
     "text": [
      "CPU times: user 18.2 s, sys: 76.6 ms, total: 18.3 s\n",
      "Wall time: 18.3 s\n"
     ]
    }
   ],
   "source": [
    "%%time\n",
    "\n",
    "color_map=[]\n",
    "size = []\n",
    "for node in h:\n",
    "    if node in t:\n",
    "        color_map.append('red')\n",
    "        size.append(40)\n",
    "    else:\n",
    "        color_map.append('grey')\n",
    "        size.append(10)\n",
    "        \n",
    "options_3 = {\n",
    " 'with_labels': False,\n",
    " 'node_color': color_map,\n",
    " 'node_size': size,\n",
    " 'linewidths': 1,\n",
    " 'width': 0.2,\n",
    " 'alpha': 0.4\n",
    "}\n",
    "\n",
    "\n",
    "\n",
    "plt.figure(figsize=(12,12))\n",
    "\n",
    "nx.draw_spring(h, **options_3)\n",
    "plt.savefig(\"%s_shortest_path.png\" %(hashtag), dpi=400)\n",
    "plt.show()"
   ]
  }
 ],
 "metadata": {
  "kernelspec": {
   "display_name": "Python 2",
   "language": "python",
   "name": "python2"
  },
  "language_info": {
   "codemirror_mode": {
    "name": "ipython",
    "version": 2
   },
   "file_extension": ".py",
   "mimetype": "text/x-python",
   "name": "python",
   "nbconvert_exporter": "python",
   "pygments_lexer": "ipython2",
   "version": "2.7.13"
  }
 },
 "nbformat": 4,
 "nbformat_minor": 2
}
