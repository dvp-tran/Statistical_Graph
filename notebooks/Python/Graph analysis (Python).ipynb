{
 "cells": [
  {
   "cell_type": "markdown",
   "metadata": {},
   "source": [
    "# Graph exploration & analysis"
   ]
  },
  {
   "cell_type": "markdown",
   "metadata": {},
   "source": [
    "--------------"
   ]
  },
  {
   "cell_type": "markdown",
   "metadata": {},
   "source": [
    "## Preliminaries"
   ]
  },
  {
   "cell_type": "markdown",
   "metadata": {},
   "source": [
    "- ### Objective :"
   ]
  },
  {
   "cell_type": "markdown",
   "metadata": {},
   "source": [
    "Predict the virality of memes/hashtags in a social network (Twitter)."
   ]
  },
  {
   "cell_type": "markdown",
   "metadata": {},
   "source": [
    "- ### Context and motivations :"
   ]
  },
  {
   "cell_type": "markdown",
   "metadata": {},
   "source": [
    "Virality is, in social networks, an important issue for corporations, political campaigns and influencers as they spend enormous resources and efforts to make their products or messages go viral in order to catch attention and spread their influence/activities to a wider audience.\n",
    "Thus, understanding the complex mechanism of virality may help one control its effects over the network:\n",
    "- How does the network structure affect the diffusion? \n",
    "- How to model the contagion, etc.\n",
    "\n",
    "Proposal brought by the paper : the  broad idea is that network communities allow predict virality by its early spreading pattern. A simple, popular approach in studying hashtags diffusion is to consider hashtags as diseases and apply epidemic models. However, recent studies demonstrate that diseases and behaviors spread differently.\n",
    "We can see huge potentiality for applications in social media marketing : social networks could give better advice to their users as to which posts are likely to give best advertising Return on Investment.\n"
   ]
  },
  {
   "cell_type": "markdown",
   "metadata": {},
   "source": [
    "- ### Imports"
   ]
  },
  {
   "cell_type": "code",
   "execution_count": 1,
   "metadata": {
    "collapsed": false
   },
   "outputs": [],
   "source": [
    "import pandas as pd\n",
    "import networkx as nx\n",
    "import matplotlib.pyplot as plt\n",
    "import numpy as np\n",
    "from scipy import stats\n",
    "%matplotlib inline"
   ]
  },
  {
   "cell_type": "markdown",
   "metadata": {},
   "source": [
    "## I. Data exploration"
   ]
  },
  {
   "cell_type": "markdown",
   "metadata": {},
   "source": [
    "**** CITATION ****\n",
    "Please cite our paper as follows, when you are using our dataset:\n",
    "Lilian Weng, Filippo Menczer, and Yong-Yeol Ahn. Virality Prediction and Community Structure in Social Networks. Nature Scientific Report. (3)2522, 2013.\n",
    "\n",
    "\n",
    "\n",
    "**** DATA SOURCE ****\n",
    "Sampled public tweets from Twitter streaming API (https://dev.twitter.com/docs/streaming-apis).\n",
    "Date range: March 24, 2012 to April 25, 2012.\n",
    "\n",
    "\n",
    "\n",
    "**** NETWORKS ****\n",
    "follower_gcc.anony.dat:\n",
    "    Format: anony.user1.ID anony.user2.ID\n",
    "    Anonymized reciprocal follower network.\n",
    "    Each edge is a pair of Twitter user who are following each other. After recovering the reciprocal follower network, the giant connected component is extracted.\n",
    "\n",
    "retweet_gcc.anony.dat:\n",
    "    Format: anony.user1.ID anony.user2.ID weight\n",
    "    Anonymized reciprocal retweet network.\n",
    "    Similarly to follower_gcc.anony.dat, but instead each edge is a pair of users who retweeted each other at least once during our observation time window. Weight is the sum of how many times user1 retweeted user2 or user2 retweeted user1.\n",
    "\n",
    "mention_gcc.anony.dat:\n",
    "    Format: anony.user1.ID anony.user2.ID weight\n",
    "    Anonymized reciprocal retweet network.\n",
    "    Similarly to follower_gcc.anony.dat, but instead each edge is a pair of users who mentioned each other at least once during our observation time window. Weight is the sum of how many times user1 mentioned user2 or user2 mentioned user1.\n",
    "\n",
    "\n",
    "\n",
    "**** HASHTAG SEQUENCES ****\n",
    "timeline_tag.anony.dat\n",
    "    Format: hashtag timestamp1,anony.user1.id timestamp2,anony.user2.id ...\n",
    "    Each line is a hashtag followed by the sequence of its adopters sorted by timestamp. A user is considered as an adopter of a hashtag once he/she starts using the hashtag. We only consider users who appear in the collected networks. The timestamp is the time when we see the hashtag in the user's tweets. The file includes both emergent hashtags and non-emergent ones.\n",
    "\n",
    "timeline_tag_rt.anony.dat\n",
    "    Format: hashtag timestamp1,anony.retweet_user1.id,anony.retweet_from_user1.id timestamp2,anony.retweet_user2.id,anony.tweet_from_user2.id ...\n",
    "    Each line is a hashtag followed by the sequence of its adopters retweeting about this hashtag from other users sorted by timestamp. A \"retweet_user\" retweets a message containing the hashtag from a \"retweet_from_user\". We only consider users who appear in the collected networks. The file includes both emergent hashtags and non-emergent ones.\n",
    "\n",
    "timeline_tag_men.anony.dat\n",
    "    Format: hashtag timestamp1,anony.mention_user1.id,anony.mentioned_user1.id timestamp2,anony.mention_user2.id,anony.mentioned_user2.id ...\n",
    "    Each line is a hashtag followed by the sequence of its adopters mentioning other users in messages containing this hashtags sorted by timestamp. A \"mention_user\" mentions a \"mentioned_user\" in a message with the target hashtag. We only consider users who appear in the collected networks. The file includes both emergent hashtags and non-emergent ones.\n",
    "\n",
    "\n",
    "\n",
    "** Note that users in these networks and timeline sequencies are anonymized in the same way so that the same IDs refer to the same Twitter users."
   ]
  },
  {
   "cell_type": "code",
   "execution_count": 2,
   "metadata": {
    "collapsed": false
   },
   "outputs": [
    {
     "data": {
      "text/html": [
       "<div>\n",
       "<table border=\"1\" class=\"dataframe\">\n",
       "  <thead>\n",
       "    <tr style=\"text-align: right;\">\n",
       "      <th></th>\n",
       "      <th>0</th>\n",
       "      <th>1</th>\n",
       "    </tr>\n",
       "  </thead>\n",
       "  <tbody>\n",
       "    <tr>\n",
       "      <th>0</th>\n",
       "      <td>0</td>\n",
       "      <td>2</td>\n",
       "    </tr>\n",
       "    <tr>\n",
       "      <th>1</th>\n",
       "      <td>0</td>\n",
       "      <td>3</td>\n",
       "    </tr>\n",
       "    <tr>\n",
       "      <th>2</th>\n",
       "      <td>0</td>\n",
       "      <td>4</td>\n",
       "    </tr>\n",
       "    <tr>\n",
       "      <th>3</th>\n",
       "      <td>0</td>\n",
       "      <td>5</td>\n",
       "    </tr>\n",
       "    <tr>\n",
       "      <th>4</th>\n",
       "      <td>0</td>\n",
       "      <td>6</td>\n",
       "    </tr>\n",
       "  </tbody>\n",
       "</table>\n",
       "</div>"
      ],
      "text/plain": [
       "   0  1\n",
       "0  0  2\n",
       "1  0  3\n",
       "2  0  4\n",
       "3  0  5\n",
       "4  0  6"
      ]
     },
     "execution_count": 2,
     "metadata": {},
     "output_type": "execute_result"
    }
   ],
   "source": [
    "#load from raw dat file into dataframes\n",
    "df1 = pd.read_csv('../../../virality2013/follower_gcc.anony.dat',sep=' ')\n",
    "df2 = pd.read_csv('../../../virality2013/mention_gcc.anony.dat',sep=' ')\n",
    "df3 = pd.read_csv('../../../virality2013/retweet_gcc.anony.dat',sep=' ')\n",
    "\n",
    "df4 = pd.read_csv('../../../virality2013/timeline_tag.anony.dat',sep=' ')\n",
    "df5 = pd.read_csv('../../../virality2013/retweet_gcc.anony.dat',sep=' ')"
   ]
  },
  {
   "cell_type": "code",
   "execution_count": null,
   "metadata": {
    "collapsed": true
   },
   "outputs": [],
   "source": [
    "df1.head()"
   ]
  },
  {
   "cell_type": "code",
   "execution_count": null,
   "metadata": {
    "collapsed": true
   },
   "outputs": [],
   "source": [
    "df4.head()"
   ]
  },
  {
   "cell_type": "markdown",
   "metadata": {},
   "source": [
    "- ### Light Analysis:"
   ]
  },
  {
   "cell_type": "code",
   "execution_count": 6,
   "metadata": {
    "collapsed": false
   },
   "outputs": [
    {
     "data": {
      "image/png": "[encoded data removed]",
      "text/plain": [
       "<matplotlib.figure.Figure at 0x7fd437e77d90>"
      ]
     },
     "metadata": {},
     "output_type": "display_data"
    },
    {
     "name": "stdout",
     "output_type": "stream",
     "text": [
      "CPU times: user 10.1 s, sys: 28 ms, total: 10.1 s\n",
      "Wall time: 10.1 s\n"
     ]
    }
   ],
   "source": [
    "%%time\n",
    "degree_sequence=sorted(nx.degree(g1).values(),reverse=True) # degree sequence\n",
    "#print \"Degree sequence\", degree_sequence\n",
    "dmax=max(degree_sequence)\n",
    "\n",
    "plt.figure(figsize=(10,10))\n",
    "plt.loglog(degree_sequence,'b-',marker='o')\n",
    "plt.title(\"Degree rank plot\")\n",
    "plt.ylabel(\"degree\")\n",
    "plt.xlabel(\"rank\")\n",
    "\n",
    "plt.show()"
   ]
  },
  {
   "cell_type": "code",
   "execution_count": 43,
   "metadata": {
    "collapsed": false
   },
   "outputs": [
    {
     "data": {
      "image/png": "[encoded data removed]",
      "text/plain": [
       "<matplotlib.figure.Figure at 0x7fd2efbaa0d0>"
      ]
     },
     "metadata": {},
     "output_type": "display_data"
    },
    {
     "name": "stdout",
     "output_type": "stream",
     "text": [
      "CPU times: user 8.52 s, sys: 48 ms, total: 8.57 s\n",
      "Wall time: 8.47 s\n"
     ]
    }
   ],
   "source": [
    "%%time\n",
    "degree_sequence=nx.degree(g1).values()\n",
    "#print \"Degree sequence\", degree_sequence\n",
    "dmax=max(degree_sequence)\n",
    "\n",
    "plt.figure(figsize=(10,10))\n",
    "plt.loglog(degree_sequence,'b-',marker='o')\n",
    "plt.title(\"Nodes degree plot\")\n",
    "plt.ylabel(\"degree\")\n",
    "plt.xlabel(\"node\")\n",
    "\n",
    "plt.show()"
   ]
  },
  {
   "cell_type": "code",
   "execution_count": null,
   "metadata": {
    "collapsed": true
   },
   "outputs": [],
   "source": [
    "#Degrees histograms\n",
    "import collections\n",
    "\n",
    "\n",
    "\n",
    "degree_sequence=sorted([d for n,d in g1.degree()], reverse=True) # degree sequence\n",
    "#print \"Degree sequence\", degree_sequence\n",
    "degreeCount=collections.Counter(degree_sequence)\n",
    "deg, cnt = zip(*degreeCount.items())\n",
    "\n",
    "fig, ax = plt.subplots()\n",
    "plt.bar(deg, cnt, width=0.80, color='b')\n",
    "\n",
    "plt.title(\"Degree Histogram\")\n",
    "plt.ylabel(\"Count\")\n",
    "plt.xlabel(\"Degree\")\n",
    "ax.set_xticks([d+0.4 for d in deg])\n",
    "ax.set_xticklabels(deg)\n",
    "\n",
    "plt.show()"
   ]
  },
  {
   "cell_type": "code",
   "execution_count": null,
   "metadata": {
    "collapsed": true
   },
   "outputs": [],
   "source": [
    "#degree distribution"
   ]
  },
  {
   "cell_type": "raw",
   "metadata": {
    "collapsed": true
   },
   "source": [
    "%%time\n",
    "#edge betweeness to long to compute\n",
    "edge_betw = nx.edge_betweenness_centrality(g1)"
   ]
  },
  {
   "cell_type": "code",
   "execution_count": 8,
   "metadata": {
    "collapsed": false
   },
   "outputs": [
    {
     "name": "stdout",
     "output_type": "stream",
     "text": [
      "CPU times: user 10min 31s, sys: 4.59 s, total: 10min 35s\n",
      "Wall time: 10min 22s\n"
     ]
    }
   ],
   "source": [
    "%%time\n",
    "\n",
    "#Coefficients\n",
    "\n",
    "#Clustering coefficients for all nodes:\n",
    "cl_cf = nx.clustering(g1)\n",
    "#Nb of connected components:\n",
    "nx.number_connected_components(g1)"
   ]
  },
  {
   "cell_type": "markdown",
   "metadata": {},
   "source": [
    "## II. Sampling"
   ]
  },
  {
   "cell_type": "markdown",
   "metadata": {},
   "source": [
    "- ### Random node sampling: "
   ]
  },
  {
   "cell_type": "code",
   "execution_count": 39,
   "metadata": {
    "collapsed": false
   },
   "outputs": [],
   "source": [
    "def sample_nodes(node_list,ratio):\n",
    "    nb_sample = ratio*len(node_list)\n",
    "    nb_sample = int(nb_sample)\n",
    "    sample = np.random.choice(np.array(node_list),size=nb_sample)\n",
    "    return sample\n",
    "\n",
    "def get_nodes(g):\n",
    "    node_list = list(g.nodes())\n",
    "    return node_list\n",
    "\n",
    "def induced_graphed(vertex,g):\n",
    "    return "
   ]
  },
  {
   "cell_type": "code",
   "execution_count": 41,
   "metadata": {
    "collapsed": false
   },
   "outputs": [
    {
     "name": "stdout",
     "output_type": "stream",
     "text": [
      "CPU times: user 92 ms, sys: 0 ns, total: 92 ms\n",
      "Wall time: 92.2 ms\n"
     ]
    }
   ],
   "source": [
    "%%time\n",
    "nodes1 = get_nodes(g1)\n",
    "sample = sample_nodes(nodes1,0.01)"
   ]
  },
  {
   "cell_type": "markdown",
   "metadata": {},
   "source": [
    "- ### Degree distribution sampling"
   ]
  },
  {
   "cell_type": "code",
   "execution_count": null,
   "metadata": {
    "collapsed": true
   },
   "outputs": [],
   "source": [
    "# Extract counts and values\n",
    "count, value = deg       # automatically unpacks along first axis\n",
    "\n",
    "\n",
    "# Generate vector of probabilities for each node\n",
    "#p = [float(x)/sum(count) for x in count]\n",
    "p = count.astype(float) / count.sum()\n",
    "\n",
    "# Load into a random variable for sampling\n",
    "x = rv_discrete(values=(value,p))\n",
    "print x.rvs(size=1)"
   ]
  }
 ],
 "metadata": {
  "kernelspec": {
   "display_name": "Python 2",
   "language": "python",
   "name": "python2"
  },
  "language_info": {
   "codemirror_mode": {
    "name": "ipython",
    "version": 2
   },
   "file_extension": ".py",
   "mimetype": "text/x-python",
   "name": "python",
   "nbconvert_exporter": "python",
   "pygments_lexer": "ipython2",
   "version": "2.7.13"
  }
 },
 "nbformat": 4,
 "nbformat_minor": 2
}
